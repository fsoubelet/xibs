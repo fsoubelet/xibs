{
  "cells": [
    {
      "cell_type": "markdown",
      "metadata": {},
      "source": [
        "\n\n# Comparison of IBS Kicks Formalisms\n\nThis example shows a comparison of the results obtained with `~xibs.kicks.KineticKickIBS`\nand `~xibs.kicks.SimpleKickIBS` when applying IBS kicks to tracked particles.\n\nWe will do the comparison by using the case of the CERN SPS, with lead ions at top\nenergy, and with some tweaked beam parameters to stimulate the IBS effects.\n\nWe will demonstrate using an `xtrack.Line` of the ``SPS`` ring, for ions at top energy (450 GeV).\n"
      ]
    },
    {
      "cell_type": "code",
      "execution_count": null,
      "metadata": {
        "collapsed": false
      },
      "outputs": [],
      "source": [
        "import logging\nimport sys\nimport warnings\n\nfrom dataclasses import dataclass\nfrom typing import Self\n\nimport matplotlib.pyplot as plt\nimport numpy as np\nimport xobjects as xo\nimport xpart as xp\nimport xtrack as xt\n\nfrom xibs.inputs import BeamParameters, OpticsParameters\nfrom xibs.formulary import _bunch_length, _geom_epsx, _geom_epsy, _sigma_delta\nfrom xibs.kicks import KineticKickIBS, SimpleKickIBS\n\nwarnings.simplefilter(\"ignore\")  # for this tutorial's clarity\nplt.rcParams.update(\n    {\n        \"font.family\": \"serif\",\n        \"font.size\": 20,\n        \"axes.titlesize\": 20,\n        \"axes.labelsize\": 20,\n        \"xtick.labelsize\": 20,\n        \"ytick.labelsize\": 20,\n        \"legend.fontsize\": 15,\n        \"figure.titlesize\": 20,\n    }\n)"
      ]
    },
    {
      "cell_type": "markdown",
      "metadata": {},
      "source": [
        "Let's start by defining the line and particle information, as well as some\nparameters for later use. Note that `bunch_intensity` is the actual number\nof particles in the bunch, and its value influences the analytical IBS growth\nrates calculation while `n_part` is the number of generated particles for\ntracking, which is much lower.\n\n"
      ]
    },
    {
      "cell_type": "code",
      "execution_count": null,
      "metadata": {
        "collapsed": false
      },
      "outputs": [],
      "source": [
        "line_file = \"lines/sps_top_ions.json\"\nbunch_intensity = int(5e11)\nn_part = int(1e3)\nsigma_z = 5e-2\nnemitt_x = 1.0e-6\nnemitt_y = 0.25e-6"
      ]
    },
    {
      "cell_type": "markdown",
      "metadata": {},
      "source": [
        "## Setting up line and particles\nLet's now load the line from file, activate the accelerating cavities and\ncreate a context for multithreading with OpenMP, since tracking particles\nis going to take some time:\n\n"
      ]
    },
    {
      "cell_type": "code",
      "execution_count": null,
      "metadata": {
        "collapsed": false
      },
      "outputs": [],
      "source": [
        "line = xt.Line.from_json(line_file)  # includes reference particle\ncontext = xo.ContextCpu(omp_num_threads=\"auto\")\n\n# ----- Power accelerating cavities ----- #\nrf_voltage = 1.7e6  # 1.7MV\nharmonic_number = 4653\ncavity = \"actcse.31632\"\nline[cavity].lag = 180  # 0 if below transition, 180 if above\nline[cavity].voltage = rf_voltage\nline[cavity].frequency = OpticsParameters.from_line(line).revolution_frequency * harmonic_number\n\nline.build_tracker(context)\nline.optimize_for_tracking()\ntwiss = line.twiss(method=\"4d\")\n\n# We create a particle distribution which we clone, one for each kick formalism\nparticles = xp.generate_matched_gaussian_bunch(\n    num_particles=n_part,\n    total_intensity_particles=bunch_intensity,\n    nemitt_x=nemitt_x,\n    nemitt_y=nemitt_y,\n    sigma_z=sigma_z,\n    line=line,\n)\nparticles2 = particles.copy()"
      ]
    },
    {
      "cell_type": "markdown",
      "metadata": {},
      "source": [
        "## Generating the IBS Kick Classes\nJust as all user-facing classes in ``xibs``, the `SimpleKickIBS` :cite:`PRAB:Bruce:Simple_IBS_Kicks`\nclass is instantiated by providing a `BeamParameters` and an `OpticsParameters` objects:\n\n"
      ]
    },
    {
      "cell_type": "code",
      "execution_count": null,
      "metadata": {
        "collapsed": false
      },
      "outputs": [],
      "source": [
        "beamparams = BeamParameters.from_line(line, n_part=bunch_intensity)\nopticsparams = OpticsParameters.from_line(line)\nKIBS = KineticKickIBS(beamparams, opticsparams)\nSIBS = SimpleKickIBS(beamparams, opticsparams)"
      ]
    },
    {
      "cell_type": "markdown",
      "metadata": {},
      "source": [
        "## Comparing Beam Parameters Evolution While Applying IBS Kicks in Tracking\nWe will now apply kicks with both formalism during tracking simulations.\nLet's do so for 750 turns, and re-compute kick coefficients every 50 turns.\n\n"
      ]
    },
    {
      "cell_type": "code",
      "execution_count": null,
      "metadata": {
        "collapsed": false
      },
      "outputs": [],
      "source": [
        "# Define some parameters for the tracking\nnturns = 750  # number of turns to loop for\nibs_step = 50  # frequency at which to re-compute coefficients in [turns]"
      ]
    },
    {
      "cell_type": "markdown",
      "metadata": {},
      "source": [
        "We will also set up a dataclass conveniently to store the results:\n\n"
      ]
    },
    {
      "cell_type": "code",
      "execution_count": null,
      "metadata": {
        "collapsed": false
      },
      "outputs": [],
      "source": [
        "@dataclass\nclass Records:\n    epsilon_x: np.ndarray\n    epsilon_y: np.ndarray\n    sigma_delta: np.ndarray\n    bunch_length: np.ndarray\n\n    def update_at_turn(self, turn: int, parts: xp.Particles, twiss: xt.TwissTable):\n        \"\"\"Automatically update the records at given turn from the xtrack.Particles.\"\"\"\n        self.epsilon_x[turn] = _geom_epsx(parts, twiss.betx[0], twiss.dx[0])\n        self.epsilon_y[turn] = _geom_epsy(parts, twiss.bety[0], twiss.dy[0])\n        self.sigma_delta[turn] = _sigma_delta(parts)\n        self.bunch_length[turn] = _bunch_length(parts)\n\n    @classmethod\n    def init_zeroes(cls, n_turns: int) -> Self:  # noqa: F821\n        \"\"\"Initialize the dataclass with arrays of zeroes.\"\"\"\n        return cls(\n            epsilon_x=np.zeros(n_turns, dtype=float),\n            epsilon_y=np.zeros(n_turns, dtype=float),\n            sigma_delta=np.zeros(n_turns, dtype=float),\n            bunch_length=np.zeros(n_turns, dtype=float),\n        )\n\n\n# Initialize the dataclasses & store the initial values\nkinetic_tbt = Records.init_zeroes(nturns)\nsimple_tbt = Records.init_zeroes(nturns)\n\nkinetic_tbt.update_at_turn(0, particles, twiss)\nsimple_tbt.update_at_turn(0, particles2, twiss)\n\n# Let's hide anything below WARNING level for readability\nlogging.basicConfig(\n    level=logging.WARNING,\n    stream=sys.stdout,\n    format=\"[%(asctime)s] [%(levelname)s] - %(module)s.%(funcName)s:%(lineno)d - %(message)s\",\n    datefmt=\"%H:%M:%S\",\n    force=True,\n)"
      ]
    },
    {
      "cell_type": "markdown",
      "metadata": {},
      "source": [
        "Now, since ``xibs`` is not fully integrated into Xsuite, we will have to manually\napply the IBS kick at each turn of tracking, and also manually trigger the turn\nof tracking. Just like in the analytical examples, we do so in a loop over the turns:\n\n"
      ]
    },
    {
      "cell_type": "code",
      "execution_count": null,
      "metadata": {
        "collapsed": false
      },
      "outputs": [],
      "source": [
        "# ----- We loop here now ----- # \n\nfor turn in range(1, nturns):\n    # ----- Potentially re-compute the IBS growth rates and kick coefficients ----- #\n    if (turn % ibs_step == 0) or (turn == 1):\n        print(f\"Turn {turn:d}: re-computing IBS kick terms\")\n        # Compute kick coefficients from the particle distributions at this moment\n        KIBS.compute_kick_coefficients(particles)\n        SIBS.compute_kick_coefficients(particles2)\n    else:\n        print(f\"Turn {turn:d}\")\n\n    # ----- Manually Apply IBS Kick and Track Turn ----- #\n    KIBS.apply_ibs_kick(particles)\n    SIBS.apply_ibs_kick(particles2)\n    line.track(particles, num_turns=1)\n    line.track(particles2, num_turns=1)\n\n    # ----- Update records for tracked particles ----- #\n    kinetic_tbt.update_at_turn(turn, particles, twiss)\n    simple_tbt.update_at_turn(turn, particles2, twiss)"
      ]
    },
    {
      "cell_type": "markdown",
      "metadata": {},
      "source": [
        "Feel free to run this simulation for more turns, with a different frequency\nof the IBS kick coefficients re-computation, or with more particles. After\nthis loop is done running, we can plot the evolutions across turns:\n\n"
      ]
    },
    {
      "cell_type": "code",
      "execution_count": null,
      "metadata": {
        "collapsed": false
      },
      "outputs": [],
      "source": [
        "turns = np.arange(nturns, dtype=int)  # array of turns\nfig, axs = plt.subplot_mosaic([[\"epsx\", \"epsy\"], [\"sigd\", \"bl\"]], sharex=True, figsize=(15, 7))\n\n# Plot from kinetic kicks\naxs[\"epsx\"].plot(turns, kinetic_tbt.epsilon_x * 1e10, lw=2, label=\"Kinetic\")\naxs[\"epsy\"].plot(turns, kinetic_tbt.epsilon_y * 1e13, lw=2, label=\"Kinetic\")\naxs[\"sigd\"].plot(turns, kinetic_tbt.sigma_delta * 1e3, lw=2, label=\"Kinetic\")\naxs[\"bl\"].plot(turns, kinetic_tbt.bunch_length * 1e3, lw=2, label=\"Kinetic\")\n\n# Plot from simple kicks\naxs[\"epsx\"].plot(turns, simple_tbt.epsilon_x * 1e10, lw=2, label=\"Simple\")\naxs[\"epsy\"].plot(turns, simple_tbt.epsilon_y * 1e13, lw=2, label=\"Simple\")\naxs[\"sigd\"].plot(turns, simple_tbt.sigma_delta * 1e3, lw=2, label=\"Simple\")\naxs[\"bl\"].plot(turns, simple_tbt.bunch_length * 1e3, lw=2, label=\"Simple\")\n\n# Axes parameters\naxs[\"epsx\"].set_ylabel(r\"$\\varepsilon_x$ [$10^{-10}$m]\")\naxs[\"epsy\"].set_ylabel(r\"$\\varepsilon_y$ [$10^{-13}$m]\")\naxs[\"sigd\"].set_ylabel(r\"$\\sigma_{\\delta}$ [$10^{-3}$]\")\naxs[\"bl\"].set_ylabel(r\"Bunch length [mm]\")\n\nfor axis in (axs[\"epsy\"], axs[\"bl\"]):\n    axis.yaxis.set_label_position(\"right\")\n    axis.yaxis.tick_right()\n\nfor axis in (axs[\"sigd\"], axs[\"bl\"]):\n    axis.set_xlabel(\"Turn Number\")\n\nfor axis in axs.values():\n    axis.yaxis.set_major_locator(plt.MaxNLocator(3))\n    axis.legend(loc=9, ncols=4)\n\nfig.align_ylabels((axs[\"epsx\"], axs[\"sigd\"]))\nfig.align_ylabels((axs[\"epsy\"], axs[\"bl\"]))\n\nplt.tight_layout()\nplt.show()"
      ]
    },
    {
      "cell_type": "markdown",
      "metadata": {},
      "source": [
        ".. admonition:: References\n\n   The use of the following functions, methods, classes and modules is shown\n   in this example:\n\n   - `~xibs.inputs`: `~xibs.inputs.BeamParameters`, `~xibs.inputs.OpticsParameters`\n   - `~xibs.kicks`: `~.xibs.kicks.KineticKickIBS`, `~.xibs.kicks.SimpleKickIBS`, `~.xibs.kicks.KineticKickIBS.apply_ibs_kick`, `~.xibs.kicks.KineticKickIBS.compute_kick_coefficients`\n\n"
      ]
    }
  ],
  "metadata": {
    "kernelspec": {
      "display_name": "Python 3",
      "language": "python",
      "name": "python3"
    },
    "language_info": {
      "codemirror_mode": {
        "name": "ipython",
        "version": 3
      },
      "file_extension": ".py",
      "mimetype": "text/x-python",
      "name": "python",
      "nbconvert_exporter": "python",
      "pygments_lexer": "ipython3",
      "version": "3.11.8"
    }
  },
  "nbformat": 4,
  "nbformat_minor": 0
}