{
  "cells": [
    {
      "cell_type": "markdown",
      "metadata": {},
      "source": [
        "\n\n# Automatic Kick Coefficients Re-Computation\n\nThis example shows how to use the the auto recomputing functionality for kick\ncoefficients in the kick classes. To follow this example please first have a\nlook at the `Kinetic Kicks example <demo-kinetic-kicks>` as well as the\nrelevant `FAQ section <xibs-faq-auto-recompute-kick-coefficients>`.\n\nThis script will showcase the functionality by following an identical flow to the \nKinetic kicks example linked above and expanding on the relevant parts. Demonstration\nwill be done using the CLIC Damping Ring line.\n"
      ]
    },
    {
      "cell_type": "code",
      "execution_count": null,
      "metadata": {
        "collapsed": false
      },
      "outputs": [],
      "source": [
        "import logging\nfrom dataclasses import dataclass\nfrom typing import Self\n\nimport matplotlib.pyplot as plt\nimport numpy as np\nimport pandas as pd\nimport xobjects as xo\nimport xpart as xp\nimport xtrack as xt\n\nfrom xibs.formulary import _bunch_length, _geom_epsx, _geom_epsy, _percent_change, _sigma_delta\nfrom xibs.inputs import BeamParameters, OpticsParameters\nfrom xibs.kicks import KineticKickIBS\n\nlogging.basicConfig(\n    level=logging.WARNING,\n    format=\"[%(asctime)s] [%(levelname)s] - %(module)s.%(funcName)s:%(lineno)d - %(message)s\",\n    datefmt=\"%H:%M:%S\",\n)\nplt.rcParams.update(\n    {\n        \"font.family\": \"serif\",\n        \"font.size\": 20,\n        \"axes.titlesize\": 20,\n        \"axes.labelsize\": 20,\n        \"xtick.labelsize\": 20,\n        \"ytick.labelsize\": 20,\n        \"legend.fontsize\": 15,\n        \"figure.titlesize\": 20,\n    }\n)"
      ]
    },
    {
      "cell_type": "markdown",
      "metadata": {},
      "source": [
        "Let's start by defining the line and particle information, as well as some\nparameters for later use. Note that `bunch_intensity` is the actual number\nof particles in the bunch, and its value influences the IBS kick coefficients\ncalculation while `n_part` is the number of generated particles for\ntracking, which is much lower.\n\n"
      ]
    },
    {
      "cell_type": "code",
      "execution_count": null,
      "metadata": {
        "collapsed": false
      },
      "outputs": [],
      "source": [
        "line_file = \"lines/chrom-corr_DR.newlattice_2GHz.json\"\nbunch_intensity = int(4.5e9)\nn_part = int(1.5e3)\nsigma_z = 1.5e-3\nnemitt_x = 5.5e-7\nnemitt_y = 3.5e-9"
      ]
    },
    {
      "cell_type": "markdown",
      "metadata": {},
      "source": [
        "## Setting up line and particles\nLet's now load the line from file, activate the accelerating cavities and\ncreate a context for multithreading with OpenMP, since tracking particles\nis going to take some time:\n\n"
      ]
    },
    {
      "cell_type": "code",
      "execution_count": null,
      "metadata": {
        "collapsed": false
      },
      "outputs": [],
      "source": [
        "line = xt.Line.from_json(line_file)\ncontext = xo.ContextCpu(omp_num_threads=\"auto\")\nline.particle_ref = xp.Particles(mass0=xp.ELECTRON_MASS_EV, q0=1, p0c=2.86e9)\n\n# ----- Power accelerating cavities ----- #\nfor cavity in [element for element in line.elements if isinstance(element, xt.Cavity)]:\n    cavity.lag = 180  # we are above transition\n\nline.build_tracker(context, extra_headers=[\"#define XTRACK_MULTIPOLE_NO_SYNRAD\"])\nline.optimize_for_tracking()\ntwiss = line.twiss()\n\nparticles = xp.generate_matched_gaussian_bunch(\n    num_particles=n_part,\n    total_intensity_particles=bunch_intensity,\n    nemitt_x=nemitt_x,\n    nemitt_y=nemitt_y,\n    sigma_z=sigma_z,\n    line=line,\n)\nparticles2 = particles.copy()"
      ]
    },
    {
      "cell_type": "markdown",
      "metadata": {},
      "source": [
        "We can compute initial (geometrical) emittances as well as the bunch length\nfrom the `xtrack.Particles` object:\n\n"
      ]
    },
    {
      "cell_type": "code",
      "execution_count": null,
      "metadata": {
        "collapsed": false
      },
      "outputs": [],
      "source": [
        "geom_epsx = _geom_epsx(particles, twiss.betx[0], twiss.dx[0])\ngeom_epsy = _geom_epsy(particles, twiss.bety[0], twiss.dy[0])\nbunch_l = _bunch_length(particles)\nsig_delta = _sigma_delta(particles)"
      ]
    },
    {
      "cell_type": "markdown",
      "metadata": {},
      "source": [
        "## Generating the IBS Kick Class\nJust as all user-facing classes in ``xibs``, the `KineticKickIBS` :cite:`NuclInstr:Zenkevich:Kinetic_IBS`\nclass is instantiated by providing a `BeamParameters` and an `OpticsParameters` objects:\n\n"
      ]
    },
    {
      "cell_type": "code",
      "execution_count": null,
      "metadata": {
        "collapsed": false
      },
      "outputs": [],
      "source": [
        "beamparams = BeamParameters.from_line(line, n_part=bunch_intensity)\nopticsparams = OpticsParameters.from_line(line)\n\n# This is the threshold that would trigger the auto-recomping of the growth rates.\nAUTO_PERCENT = 8  # threshold: 8% change from kick application\nIBS = KineticKickIBS(beamparams, opticsparams)\nAUTO_IBS = KineticKickIBS(beamparams, opticsparams, auto_recompute_coefficients_percent=AUTO_PERCENT)"
      ]
    },
    {
      "cell_type": "markdown",
      "metadata": {},
      "source": [
        "## Computing and Applying IBS Kicks\nThe so-called \"kick coefficients\" are computed directly from the particle distribution\nby calling the dedicated method. They correspond to the diffusion minus friction terms.\n\n"
      ]
    },
    {
      "cell_type": "code",
      "execution_count": null,
      "metadata": {
        "collapsed": false
      },
      "outputs": [],
      "source": [
        "IBS.compute_kick_coefficients(particles2)\nAUTO_IBS.compute_kick_coefficients(particles2)"
      ]
    },
    {
      "cell_type": "markdown",
      "metadata": {},
      "source": [
        "Let's see the evolution of the transverse emittances, $\\sigma_{\\delta}$\nand bunch length from a kick. We can have a look at the relative change of\nthe particles's distribution properties from before to after.\n\n"
      ]
    },
    {
      "cell_type": "code",
      "execution_count": null,
      "metadata": {
        "collapsed": false
      },
      "outputs": [],
      "source": [
        "IBS.apply_ibs_kick(particles2)\nnew_geom_epsx = _geom_epsx(particles2, twiss.betx[0], twiss.dx[0])\nnew_geom_epsy = _geom_epsy(particles2, twiss.bety[0], twiss.dy[0])\nnew_sig_delta = _sigma_delta(particles2)\nnew_bunch_length = _bunch_length(particles2)\n\n# Let's see the relative change\nprint(f\"Geom. epsx: {geom_epsx:.2e} -> {new_geom_epsx:.2e} | ({100 * _percent_change(geom_epsx, new_geom_epsx):.2e}% change)\")\nprint(f\"Geom. epsy: {geom_epsy:.2e} -> {new_geom_epsy:.2e} | ({100 * _percent_change(geom_epsy, new_geom_epsy):.2e}% change)\")\nprint(f\"Sigma delta: {sig_delta:.2e} -> {new_sig_delta:.2e} | ({100 * _percent_change(sig_delta, new_sig_delta):.2e}% change)\")\nprint(f\"Bunch length: {bunch_l:.4e} -> {new_bunch_length:.4e} | ({100 * _percent_change(bunch_l, new_bunch_length):.2e}% change)\")\n\n# Let's reset these\nparticles2 = particles.copy()"
      ]
    },
    {
      "cell_type": "markdown",
      "metadata": {},
      "source": [
        "## Preparing for the Tracking Simulation\nWe will loop over turns for 1000 turns, and compare results from the regular\nand auto-recomputing scenarios. Let's set up the utilities needed for this:\n\n"
      ]
    },
    {
      "cell_type": "code",
      "execution_count": null,
      "metadata": {
        "collapsed": false
      },
      "outputs": [],
      "source": [
        "nturns = 1000  # number of turns to loop for\nibs_step = 50  # frequency at which to re-compute coefficients in [turns]\nturns = np.linspace(0, nturns, nturns, dtype=int)  # array of tracked turns\n\n\n# Set up a dataclass to store the results\n@dataclass\nclass Records:\n    epsilon_x: np.ndarray\n    epsilon_y: np.ndarray\n    sigma_delta: np.ndarray\n    bunch_length: np.ndarray\n\n    def update_at_turn(self, turn: int, parts: xp.Particles, twiss: xt.TwissTable):\n        self.epsilon_x[turn] = _geom_epsx(parts, twiss.betx[0], twiss.dx[0])\n        self.epsilon_y[turn] = _geom_epsy(parts, twiss.bety[0], twiss.dy[0])\n        self.sigma_delta[turn] = _sigma_delta(parts)\n        self.bunch_length[turn] = _bunch_length(parts)\n\n    @classmethod\n    def init_zeroes(cls, n_turns: int) -> Self:  # noqa: F821\n        return cls(\n            epsilon_x=np.zeros(n_turns, dtype=float),\n            epsilon_y=np.zeros(n_turns, dtype=float),\n            sigma_delta=np.zeros(n_turns, dtype=float),\n            bunch_length=np.zeros(n_turns, dtype=float),\n        )\n\n\n# Initialize the dataclass & store the initial values\nregular = Records.init_zeroes(nturns)\nregular.update_at_turn(0, particles, twiss)\n\nauto = Records.init_zeroes(nturns)\nauto.update_at_turn(0, particles, twiss)\n\n# These arrays we will use to see when the auto-recomputing kicks in\nauto_recomputes = np.zeros(nturns, dtype=float)\nfixed_recomputes = np.zeros(nturns, dtype=float)"
      ]
    },
    {
      "cell_type": "markdown",
      "metadata": {},
      "source": [
        "## Tracking Evolution Over Turns\nLet's now loop and let the auto-recomputing do its job.\n\n"
      ]
    },
    {
      "cell_type": "code",
      "execution_count": null,
      "metadata": {
        "collapsed": false
      },
      "outputs": [],
      "source": [
        "for turn in range(1, nturns):\n    # This is not necessary, just for showcasing in this tutorial\n    n_recomputes_for_auto = AUTO_IBS._number_of_coefficients_computations\n\n    # ----- Potentially re-compute the IBS kick coefficients ----- #\n    if (turn % ibs_step == 0) or (turn == 1):\n        print(f\"Turn {turn:d}: Fixed interval re-computing of coefficients\")\n        # Below always re-computes the coefficients every 'ibs_step' turns\n        IBS.compute_kick_coefficients(particles)\n\n    # ----- Manually Apply IBS Kick and Track Turn ----- #\n    IBS.apply_ibs_kick(particles)\n    AUTO_IBS.apply_ibs_kick(particles2)  # auto-recomputes if necessary\n    line.track(particles, num_turns=1)\n    line.track(particles2, num_turns=1)\n\n    # ----- Update records for tracked particles ----- #\n    regular.update_at_turn(turn, particles, twiss)\n    auto.update_at_turn(turn, particles2, twiss)\n\n    # ----- Check if the rates were auto-recomputed ----- #\n    # This is also not necessary, just for showcasing in this tutorial\n    if AUTO_IBS._number_of_coefficients_computations > n_recomputes_for_auto:\n        print(f\"At turn {turn} - Auto re-computed coefficients\")\n        auto_recomputes[turn - 1] = 1\n\n\n# Here we also aggregate the fixed recomputes\nfor turn in turns:\n    if (turn % ibs_step == 0) or (turn == 1):\n        fixed_recomputes[turn - 1] = 1\n\n# And these are simply 1D arrays of the turns at which re-computing happened\nwhere_auto_recomputes = np.flatnonzero(auto_recomputes)\nwhere_fixed_recomputes = np.flatnonzero(fixed_recomputes)"
      ]
    },
    {
      "cell_type": "markdown",
      "metadata": {},
      "source": [
        "Let's see how many recomputes happened in total for each scenario:\n\n"
      ]
    },
    {
      "cell_type": "code",
      "execution_count": null,
      "metadata": {
        "collapsed": false
      },
      "outputs": [],
      "source": [
        "print(f\"Fixed re-computes: {IBS._number_of_coefficients_computations}\")\nprint(f\"Auto re-computes: {AUTO_IBS._number_of_coefficients_computations}\")"
      ]
    },
    {
      "cell_type": "markdown",
      "metadata": {},
      "source": [
        "That's almost four times as many updates of the coeffifients that were deemed\nnecessary by the auto-recomputing mechanism. Let's see the effect it has had\non our results by having a look at the evolution of emittances over time:\n\n"
      ]
    },
    {
      "cell_type": "code",
      "execution_count": null,
      "metadata": {
        "collapsed": false
      },
      "outputs": [],
      "source": [
        "AVG_TURNS = 3  # for rolling average plotting\nfig, axs = plt.subplot_mosaic([[\"epsx\", \"epsy\"], [\"sigd\", \"bl\"]], sharex=True, figsize=(13, 7))\n\n# We will add vertical lines at the times where recomputing of the kick \n# coefficients happened (do this first so they show up in the background)\nfor axis in axs.values():\n    for turn in where_fixed_recomputes:\n        axis.axvline(turn, color=\"gray\", linestyle=\"--\", lw=1, alpha=0.7)\n    for turn in where_auto_recomputes:\n        axis.axvline(turn, color=\"C1\", linestyle=\"-\", alpha=0.2)\n\naxs[\"epsx\"].plot(turns, 1e10 * pd.Series(regular.epsilon_x).rolling(AVG_TURNS, closed=\"both\", min_periods=1).mean(), lw=2, label=f\"Fixed ({ibs_step}) turns\")\naxs[\"epsy\"].plot(turns, 1e13 * pd.Series(regular.epsilon_y).rolling(AVG_TURNS, closed=\"both\", min_periods=1).mean(), lw=2, label=f\"Fixed ({ibs_step}) turns\")\naxs[\"sigd\"].plot(turns, 1e3 * pd.Series(regular.sigma_delta).rolling(AVG_TURNS, closed=\"both\", min_periods=1).mean(), lw=2, label=f\"Fixed ({ibs_step}) turns\")\naxs[\"bl\"].plot(turns, 1e3 * pd.Series(regular.bunch_length).rolling(AVG_TURNS, closed=\"both\", min_periods=1).mean(), lw=2, label=f\"Fixed ({ibs_step}) turns\")\n\naxs[\"epsx\"].plot(turns, 1e10 * pd.Series(auto.epsilon_x).rolling(AVG_TURNS, closed=\"both\", min_periods=1).mean(), lw=1.9, label=f\"Auto ({AUTO_PERCENT:.0f}% change)\")\naxs[\"epsy\"].plot(turns, 1e13 * pd.Series(auto.epsilon_y).rolling(AVG_TURNS, closed=\"both\", min_periods=1).mean(), lw=1.9, label=f\"Auto ({AUTO_PERCENT:.0f}% change)\")\naxs[\"sigd\"].plot(turns, 1e3 * pd.Series(auto.sigma_delta).rolling(AVG_TURNS, closed=\"both\", min_periods=1).mean(), lw=1.9, label=f\"Auto ({AUTO_PERCENT:.0f}% change)\")\naxs[\"bl\"].plot(turns, 1e3 * pd.Series(auto.bunch_length).rolling(AVG_TURNS, closed=\"both\", min_periods=1).mean(), lw=1.9, label=f\"Auto ({AUTO_PERCENT:.0f}% change)\")\n\n# Axes parameters\naxs[\"epsx\"].set_ylabel(r\"$\\varepsilon_x$ [$10^{-10}$m]\")\naxs[\"epsy\"].set_ylabel(r\"$\\varepsilon_y$ [$10^{-13}$m]\")\naxs[\"sigd\"].set_ylabel(r\"$\\sigma_{\\delta}$ [$10^{-3}$]\")\naxs[\"bl\"].set_ylabel(r\"Bunch length [mm]\")\n\nfor axis in (axs[\"epsy\"], axs[\"bl\"]):\n    axis.yaxis.set_label_position(\"right\")\n    axis.yaxis.tick_right()\n\nfor axis in (axs[\"sigd\"], axs[\"bl\"]):\n    axis.set_xlabel(\"Turn Number\")\n\nfor axis in axs.values():\n    axis.yaxis.set_major_locator(plt.MaxNLocator(3))\n\nfig.align_ylabels((axs[\"epsx\"], axs[\"sigd\"]))\nfig.align_ylabels((axs[\"epsy\"], axs[\"bl\"]))\nfig.suptitle(f\"Evolution of Emittances in CLIC DR (Kinetic Kicks)\\nAverage of Last {AVG_TURNS} Turns\")\n\nplt.legend(title=\"Recompute Coefficients\")\nplt.tight_layout()\nplt.show()"
      ]
    },
    {
      "cell_type": "markdown",
      "metadata": {},
      "source": [
        "We can have a look at the relative change from turn to turn:\n\n"
      ]
    },
    {
      "cell_type": "code",
      "execution_count": null,
      "metadata": {
        "collapsed": false
      },
      "outputs": [],
      "source": [
        "fig, axs = plt.subplot_mosaic([[\"epsx\", \"epsy\"], [\"sigd\", \"bl\"]], sharex=True, figsize=(13, 7))\n\n# We will add vertical lines at the times where recomputing of the kick \n# coefficients happened (do this first so they show up in the background)\nfor axis in axs.values():\n    for turn in where_fixed_recomputes:\n        axis.axvline(turn, color=\"gray\", linestyle=\"--\", lw=1, alpha=0.7)\n    for turn in where_auto_recomputes:\n        axis.axvline(turn, color=\"C1\", linestyle=\"-\", alpha=0.2)\n\naxs[\"epsx\"].plot(turns, 1e2 * pd.Series(regular.epsilon_x).pct_change(), lw=1, label=f\"Fixed ({ibs_step}) turns\")\naxs[\"epsy\"].plot(turns, 1e2 * pd.Series(regular.epsilon_y).pct_change(), lw=1, label=f\"Fixed ({ibs_step}) turns\")\naxs[\"sigd\"].plot(turns, 1e2 * pd.Series(regular.sigma_delta).pct_change(), lw=1, label=f\"Fixed ({ibs_step}) turns\")\naxs[\"bl\"].plot(turns, 1e2 * pd.Series(regular.bunch_length).pct_change(), lw=1, label=f\"Fixed ({ibs_step}) turns\")\n\naxs[\"epsx\"].plot(turns, 1e2 * pd.Series(auto.epsilon_x).pct_change(), lw=1, label=f\"Auto ({AUTO_PERCENT:.0f}% change)\")\naxs[\"epsy\"].plot(turns, 1e2 * pd.Series(auto.epsilon_y).pct_change(), lw=1, label=f\"Auto ({AUTO_PERCENT:.0f}% change)\")\naxs[\"sigd\"].plot(turns, 1e2 * pd.Series(auto.sigma_delta).pct_change(), lw=1, label=f\"Auto ({AUTO_PERCENT:.0f}% change)\")\naxs[\"bl\"].plot(turns, 1e2 * pd.Series(auto.bunch_length).pct_change(), lw=1, label=f\"Auto ({AUTO_PERCENT:.0f}% change)\")\n\n# Axes parameters\naxs[\"epsx\"].set_ylabel(r\"$\\varepsilon_x$\")\naxs[\"epsy\"].set_ylabel(r\"$\\varepsilon_y$\")\naxs[\"sigd\"].set_ylabel(r\"$\\sigma_{\\delta}$\")\naxs[\"bl\"].set_ylabel(r\"Bunch length\")\n\nfor axis in (axs[\"epsy\"], axs[\"bl\"]):\n    axis.yaxis.set_label_position(\"right\")\n    axis.yaxis.tick_right()\n\nfor axis in (axs[\"sigd\"], axs[\"bl\"]):\n    axis.set_xlabel(\"Duration [h]\")\n\nfor axis in axs.values():\n    axis.axhline(AUTO_PERCENT, color=\"black\", linestyle=\"--\", alpha=0.5, label=\"Recompute Threshold\")\n    axis.yaxis.set_major_locator(plt.MaxNLocator(3))\n    axis.set_yscale(\"log\")\n\nfig.align_ylabels((axs[\"epsx\"], axs[\"sigd\"]))\nfig.align_ylabels((axs[\"epsy\"], axs[\"bl\"]))\nfig.suptitle(\"Percent change from previous turn\")\n\nplt.legend(title=\"Recompute Coefficients\")\nplt.tight_layout()\nplt.show()"
      ]
    },
    {
      "cell_type": "markdown",
      "metadata": {},
      "source": [
        "We can see that the auto-recompute feature leads to correct results of the IBS\neffects in addition to making the tracking loop simpler to write. It also avoids\nfor the user to have to determine a proper interval for re-computing the kicks -\nwhich could be correct for part of the simulation but not all of it - by adapting\nitself to the actual changes in the particle distribution.\n\n"
      ]
    },
    {
      "cell_type": "markdown",
      "metadata": {},
      "source": [
        ".. admonition:: References\n\n   The use of the following functions, methods, classes and modules is shown\n   in this example:\n\n   - `~xibs.analytical`: `~.xibs.analytical.NagaitsevIBS`, `~.xibs.analytical.NagaitsevIBS.growth_rates`, `~.xibs.analytical.NagaitsevIBS.emittance_evolution`\n   - `~xibs.inputs`: `~xibs.inputs.BeamParameters`, `~xibs.inputs.OpticsParameters`\n   - `~xibs.kicks`: `~.xibs.kicks.DiffusionCoefficients`, `~.xibs.kicks.FrictionCoefficients`, `~.xibs.kicks.IBSKickCoefficients`, `~.xibs.kicks.KineticKickIBS`, `~.xibs.kicks.KineticKickIBS.apply_ibs_kick`, `~.xibs.kicks.KineticKickIBS.compute_kick_coefficients`\n\n"
      ]
    }
  ],
  "metadata": {
    "kernelspec": {
      "display_name": "Python 3",
      "language": "python",
      "name": "python3"
    },
    "language_info": {
      "codemirror_mode": {
        "name": "ipython",
        "version": 3
      },
      "file_extension": ".py",
      "mimetype": "text/x-python",
      "name": "python",
      "nbconvert_exporter": "python",
      "pygments_lexer": "ipython3",
      "version": "3.11.9"
    }
  },
  "nbformat": 4,
  "nbformat_minor": 0
}