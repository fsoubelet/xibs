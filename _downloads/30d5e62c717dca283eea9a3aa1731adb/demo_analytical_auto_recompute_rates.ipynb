{
  "cells": [
    {
      "cell_type": "markdown",
      "metadata": {},
      "source": [
        "\n\n# Automatic Growth Rates Re-Computation\n\nThis example shows how to use the the auto recomputing functionality for growth rates\nin the analytical classes. To follow this example please first have a look at the \n`Analytical Nagaitsev example <demo-analytical-nagaitsev>` as well as the relevant\n`FAQ section <xibs-faq-auto-recompute-growth-rates>`.\n\nThis script will showcase the functionality by following an identical flow to the \nNagaitsev example linked above and expanding on the relevant parts. Demonstration will\nbe done using the SPS top protons line.\n"
      ]
    },
    {
      "cell_type": "code",
      "execution_count": null,
      "metadata": {
        "collapsed": false
      },
      "outputs": [],
      "source": [
        "import logging\n\nfrom dataclasses import dataclass\n\nimport matplotlib.pyplot as plt\nimport numpy as np\nimport xpart as xp\nimport xtrack as xt\n\nfrom xibs.analytical import NagaitsevIBS\nfrom xibs.formulary import _bunch_length, _geom_epsx, _geom_epsy, _sigma_delta, _percent_change\nfrom xibs.inputs import BeamParameters, OpticsParameters\n\nlogging.basicConfig(\n    level=logging.WARNING,\n    format=\"[%(asctime)s] [%(levelname)s] - %(module)s.%(funcName)s:%(lineno)d - %(message)s\",\n    datefmt=\"%H:%M:%S\",\n)\nplt.rcParams.update(\n    {\n        \"font.family\": \"serif\",\n        \"font.size\": 20,\n        \"axes.titlesize\": 20,\n        \"axes.labelsize\": 20,\n        \"xtick.labelsize\": 20,\n        \"ytick.labelsize\": 20,\n        \"legend.fontsize\": 15,\n        \"figure.titlesize\": 20,\n    }\n)"
      ]
    },
    {
      "cell_type": "markdown",
      "metadata": {},
      "source": [
        "Let's start by defining the line and particle information, as well as some\nparameters for later use:\n\n"
      ]
    },
    {
      "cell_type": "code",
      "execution_count": null,
      "metadata": {
        "collapsed": false
      },
      "outputs": [],
      "source": [
        "line_file = \"lines/sps_top_protons.json\"\n# The beam parameters are very exaggerated to enhance IBS effects\nbunch_intensity = 5e11\nsigma_z = 10e-2  # very pushed\nnemitt_x = 1e-6  # very pushed\nnemitt_y = 1e-6  # very pushed\nn_part = int(5e3)"
      ]
    },
    {
      "cell_type": "markdown",
      "metadata": {},
      "source": [
        "## Setting up line and particles\nLet's start by loading the `xtrack.Line`, activating RF cavities and\ngenerating a matched Gaussian bunch:\n\n"
      ]
    },
    {
      "cell_type": "code",
      "execution_count": null,
      "metadata": {
        "collapsed": false
      },
      "outputs": [],
      "source": [
        "line = xt.Line.from_json(line_file)\nline.build_tracker()\nline.optimize_for_tracking()\ntwiss = line.twiss(method=\"4d\")\n\n# ----- Power accelerating cavities ----- #\n\nrf_voltage = 4  # in MV\nrf_frequency = 200e6\nharmonic_number = 4653\ncavity_name = \"actcse.31632\"\ncavity_lag = 180\nline[cavity_name].voltage = rf_voltage * 1e6  # to be given in [V] here\nline[cavity_name].lag = cavity_lag\nline[cavity_name].frequency = rf_frequency\n\nparticles = xp.generate_matched_gaussian_bunch(\n    num_particles=n_part,\n    total_intensity_particles=bunch_intensity,\n    nemitt_x=nemitt_x,\n    nemitt_y=nemitt_y,\n    sigma_z=sigma_z,\n    particle_ref=line.particle_ref,\n    line=line,\n)"
      ]
    },
    {
      "cell_type": "markdown",
      "metadata": {},
      "source": [
        "We can compute initial (geometrical) emittances as well as the bunch length\nfrom the `xtrack.Particles` object:\n\n"
      ]
    },
    {
      "cell_type": "code",
      "execution_count": null,
      "metadata": {
        "collapsed": false
      },
      "outputs": [],
      "source": [
        "geom_epsx = _geom_epsx(particles, twiss.betx[0], twiss.dx[0])\ngeom_epsy = _geom_epsy(particles, twiss.bety[0], twiss.dy[0])\nbunch_l = _bunch_length(particles)\nsig_delta = _sigma_delta(particles)"
      ]
    },
    {
      "cell_type": "markdown",
      "metadata": {},
      "source": [
        "## Instantiate Analytical IBS Objects\nLet us instantiate three instances of the `~.xibs.analytical.NagaitsevIBS` class,\nwhere each will be used for a different updating behaviour of the growth rates.\n\n"
      ]
    },
    {
      "cell_type": "code",
      "execution_count": null,
      "metadata": {
        "collapsed": false
      },
      "outputs": [],
      "source": [
        "beam_params = BeamParameters(particles)\noptics = OpticsParameters(twiss)\n\nIBS = NagaitsevIBS(beam_params, optics)  # will recompute rates at a given frequency\nAUTO_IBS = NagaitsevIBS(beam_params, optics)  # will auto-recompute rates only"
      ]
    },
    {
      "cell_type": "markdown",
      "metadata": {},
      "source": [
        "Let's get the growth rates and see the evolution of the transverse emittances,\n$\\sigma_{\\delta}$ and bunch length. We can then have a look at the relative\nchange from one second to the next.\n\n"
      ]
    },
    {
      "cell_type": "code",
      "execution_count": null,
      "metadata": {
        "collapsed": false
      },
      "outputs": [],
      "source": [
        "IBS.growth_rates(geom_epsx, geom_epsy, sig_delta, bunch_l)\nAUTO_IBS.growth_rates(geom_epsx, geom_epsy, sig_delta, bunch_l)\n\nnew_geom_epsx, new_geom_epsy, new_sig_delta, new_bunch_length = IBS.emittance_evolution(\n    geom_epsx, geom_epsy, sig_delta, bunch_l\n)\n\n# Let's see the relative change\nprint(f\"Geom. epsx: {geom_epsx:.2e} -> {new_geom_epsx:.2e} | ({100 * _percent_change(geom_epsx, new_geom_epsx):.2e}% change)\")\nprint(f\"Geom. epsy: {geom_epsy:.2e} -> {new_geom_epsy:.2e} | ({100 * _percent_change(geom_epsy, new_geom_epsy):.2e}% change)\")\nprint(f\"Sigma delta: {sig_delta:.2e} -> {new_sig_delta:.2e} | ({100 * _percent_change(sig_delta, new_sig_delta):.2e}% change)\")\nprint(f\"Bunch length: {bunch_l:.2e} -> {new_bunch_length:.2e} | ({100 * _percent_change(bunch_l, new_bunch_length):.2e}% change)\")"
      ]
    },
    {
      "cell_type": "markdown",
      "metadata": {},
      "source": [
        "## Preparing for Simulation of Evolution\nWe will loop over time steps (seconds in this case) for 5 hours equivalent time,\nand specify the auto-recomputing in these steps where relevant. Let's set up the\nutilities we will need for this:\n\n"
      ]
    },
    {
      "cell_type": "code",
      "execution_count": null,
      "metadata": {
        "collapsed": false
      },
      "outputs": [],
      "source": [
        "nsecs = 5 * 3_600  # that's 5h\nibs_step = 10 * 60  # fixed interval for rates recomputing\nseconds = np.linspace(0, nsecs, nsecs, dtype=int)\n\n# This is the threshold that would trigger the auto-recomping of the growth rates.\nAUTO_PERCENT = 15  # threshold: 15% change from last growth rates update\n\n# Set up a dataclass to store the results\n@dataclass\nclass Records:\n    \"\"\"Dataclass to store (and update) important values through tracking.\"\"\"\n\n    epsilon_x: np.ndarray  # geometric horizontal emittance in [m]\n    epsilon_y: np.ndarray  # geometric vertical emittance in [m]\n    sig_delta: np.ndarray  # momentum spread\n    bunch_length: np.ndarray  # bunch length in [m]\n    epsx_rel_to_last_ref: np.ndarray  # relative change of epsx to last reference\n    epsy_rel_to_last_ref: np.ndarray  # relative change of epsy to last reference\n    sigd_rel_to_last_ref: np.ndarray  # relative change of sigd to last reference\n    bl_rel_to_last_ref: np.ndarray  # relative change of bl to last reference\n\n\n    @classmethod\n    def init_zeroes(cls, n_turns: int):\n        return cls(\n            epsilon_x=np.zeros(n_turns, dtype=float),\n            epsilon_y=np.zeros(n_turns, dtype=float),\n            sig_delta=np.zeros(n_turns, dtype=float),\n            bunch_length=np.zeros(n_turns, dtype=float),\n            epsx_rel_to_last_ref=np.zeros(n_turns, dtype=float),\n            epsy_rel_to_last_ref=np.zeros(n_turns, dtype=float),\n            sigd_rel_to_last_ref=np.zeros(n_turns, dtype=float),\n            bl_rel_to_last_ref=np.zeros(n_turns, dtype=float),\n        )\n\n    def update_at_turn(self, turn: int, epsx: float, epsy: float, sigd: float, bl: float, epsxrel: float = 0.0, epsyrel: float = 0.0, sigdrel: float = 0.0, blrel: float = 0.0):\n        \"\"\"Works for turns / seconds, just needs the correct index to store in.\"\"\"\n        self.epsilon_x[turn] = epsx\n        self.epsilon_y[turn] = epsy\n        self.sig_delta[turn] = sigd\n        self.bunch_length[turn] = bl\n        self.epsx_rel_to_last_ref[turn] = epsxrel\n        self.epsy_rel_to_last_ref[turn] = epsyrel\n        self.sigd_rel_to_last_ref[turn] = sigdrel\n        self.bl_rel_to_last_ref[turn] = blrel\n\n\n# Initialize the dataclass & store the initial values\nregular = Records.init_zeroes(nsecs)\nauto = Records.init_zeroes(nsecs)\n\nregular.update_at_turn(0, geom_epsx, geom_epsy, sig_delta, bunch_l)\nauto.update_at_turn(0, geom_epsx, geom_epsy, sig_delta, bunch_l)\n\n# These arrays we will use to see when the auto-recomputing kicks in\nauto_recomputes = np.zeros(nsecs, dtype=float)\nfixed_recomputes = np.zeros(nsecs, dtype=float)"
      ]
    },
    {
      "cell_type": "markdown",
      "metadata": {},
      "source": [
        "## Analytical Evolution Over Time\nLet's now loop and specify the auto-recomputing where relevant.\n\n"
      ]
    },
    {
      "cell_type": "code",
      "execution_count": null,
      "metadata": {
        "collapsed": false
      },
      "outputs": [],
      "source": [
        "for sec in range(1, nsecs):\n    # This is not necessary, just for showcasing in this tutorial\n    n_recomputes_for_auto = AUTO_IBS._number_of_growth_rates_computations\n\n    # ----- Potentially re-compute the IBS growth rates ----- #\n    if (sec % ibs_step == 0) or (sec == 1):\n        print(f\"At {sec}s: Fixed interval recomputing of the growth rates\")\n        # Below always re-computes the rates every 'ibs_step' seconds\n        IBS.growth_rates(\n            regular.epsilon_x[sec - 1],\n            regular.epsilon_y[sec - 1],\n            regular.sig_delta[sec - 1],\n            regular.bunch_length[sec - 1],\n        )\n\n    # ----- Compute the new emittances ----- #\n    new_emit_x, new_emit_y, new_sig_delta, new_bunch_length = IBS.emittance_evolution(\n        epsx=regular.epsilon_x[sec - 1],\n        epsy=regular.epsilon_y[sec - 1],\n        sigma_delta=regular.sig_delta[sec - 1],\n        bunch_length=regular.bunch_length[sec - 1],\n        dt=1.0,  # get at next second\n    )\n    regular.update_at_turn(sec,\n        new_emit_x,\n        new_emit_y,\n        new_sig_delta,\n        new_bunch_length,\n        _percent_change(IBS._refs.epsx, new_emit_x),\n        _percent_change(IBS._refs.epsy, new_emit_y),\n        _percent_change(IBS._refs.sigma_delta, new_sig_delta),\n        _percent_change(IBS._refs.bunch_length, new_bunch_length),\n    )\n\n    # ----- Potentially auto-update growth rates and compute new emittances ----- #\n    # The AUTO_IBS is given our threshold for auto-recomputing and will decide to update\n    # its growth rates itself if any of the quantities change by more than 15%.\n    anew_emit_x, anew_emit_y, anew_sig_delta, anew_bunch_length = AUTO_IBS.emittance_evolution(\n        epsx=auto.epsilon_x[sec - 1],\n        epsy=auto.epsilon_y[sec - 1],\n        sigma_delta=auto.sig_delta[sec - 1],\n        bunch_length=auto.bunch_length[sec - 1],\n        dt=1.0,  # get at next second\n        auto_recompute_rates_percent=AUTO_PERCENT,\n    )\n    auto.update_at_turn(\n        sec,\n        anew_emit_x,\n        anew_emit_y,\n        anew_sig_delta,\n        anew_bunch_length,\n        _percent_change(AUTO_IBS._refs.epsx, anew_emit_x),\n        _percent_change(AUTO_IBS._refs.epsy, anew_emit_y),\n        _percent_change(AUTO_IBS._refs.sigma_delta, anew_sig_delta),\n        _percent_change(AUTO_IBS._refs.bunch_length, anew_bunch_length),\n    )\n\n    # ----- Check if the rates were auto-recomputed ----- #\n    # This is also not necessary, just for showcasing in this tutorial\n    if AUTO_IBS._number_of_growth_rates_computations > n_recomputes_for_auto:\n        print(f\"At {sec}s - Auto re-computed growth rates\")\n        auto_recomputes[sec] = 1\n\n\n# Here we also aggregate the fixed recomputes\nfor sec in seconds:\n    if (sec % ibs_step == 0) or (sec == 1):\n        fixed_recomputes[sec - 1] = 1\n\n# And these are simply 1D arrays of the seconds at which re-computing happened\nwhere_auto_recomputes = np.flatnonzero(auto_recomputes)\nwhere_fixed_recomputes = np.flatnonzero(fixed_recomputes)"
      ]
    },
    {
      "cell_type": "markdown",
      "metadata": {},
      "source": [
        "Let's see how many recomputes happened in total for each scenario:\n\n"
      ]
    },
    {
      "cell_type": "code",
      "execution_count": null,
      "metadata": {
        "collapsed": false
      },
      "outputs": [],
      "source": [
        "print(f\"Fixed re-computes: {IBS._number_of_growth_rates_computations}\")\nprint(f\"Auto re-computes: {AUTO_IBS._number_of_growth_rates_computations}\")"
      ]
    },
    {
      "cell_type": "markdown",
      "metadata": {},
      "source": [
        "That's almost 1600 additional updates of the growth rates that were deemed\nnecessary by the auto-recomputing mechanism. Let's see the effect it has had\non our results by having a look at the evolution of emittances over time:\n\n"
      ]
    },
    {
      "cell_type": "code",
      "execution_count": null,
      "metadata": {
        "collapsed": false
      },
      "outputs": [],
      "source": [
        "fig, axs = plt.subplot_mosaic([[\"epsx\", \"epsy\"], [\"sigd\", \"bl\"]], sharex=True, figsize=(13, 8.5))\n\n# We will add vertical lines at the times where recomputing of the growth \n# rates happened (do this first so they show up in the background)\nfor axis in axs.values():\n    for sec in where_fixed_recomputes:\n        axis.axvline(sec / 3600, color=\"C0\", linestyle=\"--\", lw=1, alpha=0.5)\n    for sec in where_auto_recomputes:\n        axis.axvline(sec / 3600, color=\"C1\", linestyle=\"-\", alpha=0.035)\n\naxs[\"epsx\"].plot(seconds / 3600, 1e9 * regular.epsilon_x, lw=2, label=f\"Fixed ({int(ibs_step / 60)} mins)\")\naxs[\"epsy\"].plot(seconds / 3600, 1e9 * regular.epsilon_y, lw=2, label=f\"Fixed ({int(ibs_step / 60)} mins)\")\naxs[\"sigd\"].plot(seconds / 3600, 1e4 * regular.sig_delta, lw=2, label=f\"Fixed ({int(ibs_step / 60)} mins)\")\naxs[\"bl\"].plot(seconds / 3600, 1e2 * regular.bunch_length, lw=2, label=f\"Fixed ({int(ibs_step / 60)} mins)\")\n\naxs[\"epsx\"].plot(seconds / 3600, 1e9 * auto.epsilon_x, lw=2, label=f\"Auto ({AUTO_PERCENT:.0f}% change)\")\naxs[\"epsy\"].plot(seconds / 3600, 1e9 * auto.epsilon_y, lw=2, label=f\"Auto ({AUTO_PERCENT:.0f}% change)\")\naxs[\"sigd\"].plot(seconds / 3600, 1e4 * auto.sig_delta, lw=2, label=f\"Auto ({AUTO_PERCENT:.0f}% change)\")\naxs[\"bl\"].plot(seconds / 3600, 1e2 * auto.bunch_length, lw=2, label=f\"Auto ({AUTO_PERCENT:.0f}% change)\")\n\n# Axes parameters\naxs[\"epsx\"].set_ylabel(r\"$\\varepsilon_x$ [$10^{-9}$m]\")\naxs[\"epsy\"].set_ylabel(r\"$\\varepsilon_y$ [$10^{-9}$m]\")\naxs[\"sigd\"].set_ylabel(r\"$\\sigma_{\\delta}$ [$10^{-4}$]\")\naxs[\"bl\"].set_ylabel(r\"Bunch length [cm]\")\n\nfor axis in (axs[\"epsy\"], axs[\"bl\"]):\n    axis.yaxis.set_label_position(\"right\")\n    axis.yaxis.tick_right()\n\nfor axis in (axs[\"sigd\"], axs[\"bl\"]):\n    axis.set_xlabel(\"Duration [h]\")\n\nfig.align_ylabels((axs[\"epsx\"], axs[\"sigd\"]))\nfig.align_ylabels((axs[\"epsy\"], axs[\"bl\"]))\nfig.suptitle(\"Analytical Evolution of Emittances from IBS\\nSPS Top Protons\")\n\nplt.legend(title=\"Recompute Rates\")\nplt.tight_layout()\nplt.show()"
      ]
    },
    {
      "cell_type": "markdown",
      "metadata": {},
      "source": [
        "Let's keep in mind that the formula for the evolution of these properties from\nIBS is an exponential that depends on the value at the previous step, and the\ngrowth rate for the given plane. As long as the growth rate is not re-computed,\nthen the relative change from one time step to the next will be the same. We can\nhave a look at the relative change from the last time growth rates were updated:\n\n"
      ]
    },
    {
      "cell_type": "code",
      "execution_count": null,
      "metadata": {
        "collapsed": false
      },
      "outputs": [],
      "source": [
        "fig, axs = plt.subplot_mosaic([[\"epsx\", \"epsy\"], [\"sigd\", \"bl\"]], sharex=True, figsize=(13, 8.5))\n\n# We will add vertical lines at the times where recomputing of the growth \n# rates happened (do this first so they show up in the background)\nfor axis in axs.values():\n    for sec in where_fixed_recomputes:\n        axis.axvline(sec / 3600, color=\"C0\", linestyle=\"--\", lw=1, alpha=0.5)\n    for sec in where_auto_recomputes:\n        axis.axvline(sec / 3600, color=\"C1\", linestyle=\"-\", alpha=0.035)\n\naxs[\"epsx\"].plot(seconds / 3600, 1e2 * regular.epsx_rel_to_last_ref, lw=2, label=f\"Fixed ({int(ibs_step / 60)} mins)\")\naxs[\"epsy\"].plot(seconds / 3600, 1e2 * regular.epsy_rel_to_last_ref, lw=2, label=f\"Fixed ({int(ibs_step / 60)} mins)\")\naxs[\"sigd\"].plot(seconds / 3600, 1e2 * regular.sigd_rel_to_last_ref, lw=2, label=f\"Fixed ({int(ibs_step / 60)} mins)\")\naxs[\"bl\"].plot(seconds / 3600, 1e2 * regular.bl_rel_to_last_ref, lw=2, label=f\"Fixed ({int(ibs_step / 60)} mins)\")\n\naxs[\"epsx\"].plot(seconds / 3600, 1e2 * auto.epsx_rel_to_last_ref, lw=2, label=f\"Auto ({AUTO_PERCENT:.0f}% change)\")\naxs[\"epsy\"].plot(seconds / 3600, 1e2 * auto.epsy_rel_to_last_ref, lw=2, label=f\"Auto ({AUTO_PERCENT:.0f}% change)\")\naxs[\"sigd\"].plot(seconds / 3600, 1e2 * auto.sigd_rel_to_last_ref, lw=2, label=f\"Auto ({AUTO_PERCENT:.0f}% change)\")\naxs[\"bl\"].plot(seconds / 3600, 1e2 * auto.bl_rel_to_last_ref, lw=2, label=f\"Auto ({AUTO_PERCENT:.0f}% change)\")\n\n# Axes parameters\naxs[\"epsx\"].set_ylabel(r\"$\\varepsilon_x$\")\naxs[\"epsy\"].set_ylabel(r\"$\\varepsilon_y$\")\naxs[\"sigd\"].set_ylabel(r\"$\\sigma_{\\delta}$\")\naxs[\"bl\"].set_ylabel(r\"Bunch length\")\n\nfor axis in (axs[\"epsy\"], axs[\"bl\"]):\n    axis.yaxis.set_label_position(\"right\")\n    axis.yaxis.tick_right()\n\nfor axis in (axs[\"sigd\"], axs[\"bl\"]):\n    axis.set_xlabel(\"Duration [h]\")\n\nfor axis in axs.values():\n    axis.axhline(AUTO_PERCENT, color=\"black\", linestyle=\"--\", alpha=0.5, label=\"Threshold\")\n    axis.yaxis.set_major_locator(plt.MaxNLocator(3))\n    axis.set_yscale(\"log\")\n\nfig.align_ylabels((axs[\"epsx\"], axs[\"sigd\"]))\nfig.align_ylabels((axs[\"epsy\"], axs[\"bl\"]))\nfig.suptitle(\"Percent change from values at previous growth rate update\\nSPS Top Protons\")\n\nplt.legend(title=\"Recompute Rates\")\nplt.tight_layout()\nplt.show()"
      ]
    },
    {
      "cell_type": "markdown",
      "metadata": {},
      "source": [
        "We can see from this plot that the relative change for the \"fixed\" interval\nscenario keeps increasing between re-computes of the growth rates. Because we\npushed the beam parameters to the extreme, the emittances grow \"too fast\" from\nthe start to the first recompute of the rates 10 minutes in.\n\nThe \"auto-only\" recomputing scenario initially updates its growth rates very\nfrequently in the beginning of the simulation: almost every time step for the\nfirst 10 minutes of simulated beam time. As the horizontal emittance and the\n$\\delta_p$ and bunch length grow, the effect of IBS decreases and the\nrates are not updated as frequently. \n\n## Takeaways\nOne can see the difference made by the auto-recomputing, especially in the horizontal\nplane where a large gap to the \"fixed interval\" scenario is observed for the final \nvalues reached, despite an asymptotic behaviour. In the beginning of the simulation,\nauto-recomputing is very frequent and avoid an unrealistic growth of the emittances.\n\nIt is important for the user to choose an appropriate threshold value. A value too\nhigh will lead to the rates not updating frequently enough and potentially unrealistic\nevolutions, while a value too low will lead to the rates re-computing at every step for\na long time, which is computationally expensive and unnecessary.\n\n"
      ]
    },
    {
      "cell_type": "markdown",
      "metadata": {},
      "source": [
        ".. admonition:: References\n\n   The use of the following functions, methods, classes and modules is shown\n   in this example:\n\n   - `~xibs.analytical`: `~.xibs.analytical.NagaitsevIBS`, `~.xibs.analytical.NagaitsevIBS.growth_rates`, `~.xibs.analytical.NagaitsevIBS.integrals`, `~.xibs.analytical.NagaitsevIBS.emittance_evolution`\n   - `~xibs.inputs`: `~xibs.inputs.BeamParameters`, `~xibs.inputs.OpticsParameters`\n\n"
      ]
    }
  ],
  "metadata": {
    "kernelspec": {
      "display_name": "Python 3",
      "language": "python",
      "name": "python3"
    },
    "language_info": {
      "codemirror_mode": {
        "name": "ipython",
        "version": 3
      },
      "file_extension": ".py",
      "mimetype": "text/x-python",
      "name": "python",
      "nbconvert_exporter": "python",
      "pygments_lexer": "ipython3",
      "version": "3.11.9"
    }
  },
  "nbformat": 4,
  "nbformat_minor": 0
}