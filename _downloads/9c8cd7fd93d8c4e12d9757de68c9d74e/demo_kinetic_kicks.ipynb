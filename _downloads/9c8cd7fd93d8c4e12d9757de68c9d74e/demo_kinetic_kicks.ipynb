{
  "cells": [
    {
      "cell_type": "markdown",
      "metadata": {},
      "source": [
        "\n\n# Kinetic Kicks Formalism - IBS Kicks Based on Diffusion and Friction Terms\n\nThis example shows how to use the `~.xibs.kicks.KineticKickIBS` class\nto apply IBS kicks to tracked particles based on the kinetic theory of gases.\nIt implements IBS kicks based on the formalism described in :cite:`NuclInstr:Zenkevich:Kinetic_IBS`.\n\n<div class=\"alert alert-danger\"><h4>Warning</h4><p>Please note that this kick formalism is currently implemented with terms from Nagaitsev's\n    calculations, which do not take into consideration vertical dispersion. Details are provided\n    in the `class's documentation <xibs-kicks>`.</p></div>\n\nWe will demonstrate using an `xtrack.Line` of the ``CLIC`` damping ring,\nfor a positron beam.\n"
      ]
    },
    {
      "cell_type": "code",
      "execution_count": null,
      "metadata": {
        "collapsed": false
      },
      "outputs": [],
      "source": [
        "import logging\nimport sys\nimport warnings\n\nfrom dataclasses import dataclass\nfrom typing import Self\n\nimport matplotlib.pyplot as plt\nimport numpy as np\nimport xobjects as xo\nimport xpart as xp\nimport xtrack as xt\n\nfrom xibs.analytical import NagaitsevIBS\nfrom xibs.inputs import BeamParameters, OpticsParameters\nfrom xibs.kicks import DiffusionCoefficients, KineticKickIBS\n\nwarnings.simplefilter(\"ignore\")  # for this tutorial's clarity\nplt.rcParams.update(\n    {\n        \"font.family\": \"serif\",\n        \"font.size\": 20,\n        \"axes.titlesize\": 20,\n        \"axes.labelsize\": 20,\n        \"xtick.labelsize\": 20,\n        \"ytick.labelsize\": 20,\n        \"legend.fontsize\": 15,\n        \"figure.titlesize\": 20,\n    }\n)"
      ]
    },
    {
      "cell_type": "markdown",
      "metadata": {},
      "source": [
        "We will define here some helper functions we will regularly use later on to\ncompute the emittances, bunch lengths and momentum spread from and `xpart.Particles`\nobject representing our particle distribution. In each, let's make sure to filter\nfor only the active particles (``state > 0``).\n\n"
      ]
    },
    {
      "cell_type": "code",
      "execution_count": null,
      "metadata": {
        "collapsed": false
      },
      "outputs": [],
      "source": [
        "def _bunch_length(parts: xp.Particles) -> float:\n    return np.std(parts.zeta[parts.state > 0])\n\n\ndef _sigma_delta(parts: xp.Particles) -> float:\n    return np.std(parts.delta[parts.state > 0])\n\n\ndef _geom_epsx(parts: xp.Particles, twiss: xt.TwissTable) -> float:\n    \"\"\"\n    We index dx and betx at 0 which corresponds to the beginning / end of\n    the line, since this is where / when we will be applying the kicks.\n    \"\"\"\n    sigma_x = np.std(parts.x[parts.state > 0])\n    sig_delta = _sigma_delta(parts)\n    return (sigma_x**2 - (twiss[\"dx\"][0] * sig_delta) ** 2) / twiss[\"betx\"][0]\n\n\ndef _geom_epsy(parts: xp.Particles, twiss: xt.TwissTable) -> float:\n    \"\"\"\n    We index dy and bety at 0 which corresponds to the beginning / end of\n    the line, since this is where / when we will be applying the kicks.\n    \"\"\"\n    sigma_y = np.std(parts.y[parts.state > 0])\n    sig_delta = _sigma_delta(parts)\n    return (sigma_y**2 - (twiss[\"dy\"][0] * sig_delta) ** 2) / twiss[\"bety\"][0]"
      ]
    },
    {
      "cell_type": "markdown",
      "metadata": {},
      "source": [
        "Let's start by defining the line and particle information, as well as some\nparameters for later use. Note that `bunch_intensity` is the actual number\nof particles in the bunch, and its value influences the analytical IBS growth\nrates calculation while `n_part` is the number of generated particles for\ntracking, which is much lower.\n\n"
      ]
    },
    {
      "cell_type": "code",
      "execution_count": null,
      "metadata": {
        "collapsed": false
      },
      "outputs": [],
      "source": [
        "line_file = \"lines/chrom-corr_DR.newlattice_2GHz.json\"\nbunch_intensity = int(4.5e9)\nn_part = int(1.5e4)  # 15k particles initially to have a look at the kick effect\nsigma_z = 1.58e-3\nnemitt_x = 5.66e-7\nnemitt_y = 3.7e-9"
      ]
    },
    {
      "cell_type": "markdown",
      "metadata": {},
      "source": [
        "## Setting up line and particles\nLet's now load the line from file, activate the accelerating cavities and\ncreate a context for multithreading with OpenMP, since tracking particles\nis going to take some time:\n\n"
      ]
    },
    {
      "cell_type": "code",
      "execution_count": null,
      "metadata": {
        "collapsed": false
      },
      "outputs": [],
      "source": [
        "line = xt.Line.from_json(line_file)\ncontext = xo.ContextCpu(omp_num_threads=\"auto\")\nline.particle_ref = xp.Particles(mass0=xp.ELECTRON_MASS_EV, q0=1, p0c=2.86e9)\n\n# ----- Power accelerating cavities ----- #\nfor cavity in [element for element in line.elements if isinstance(element, xt.Cavity)]:\n    cavity.lag = 180  # we are above transition\n\nline.build_tracker(context, extra_headers=[\"#define XTRACK_MULTIPOLE_NO_SYNRAD\"])\nline.optimize_for_tracking()\ntwiss = line.twiss()\n\nparticles = xp.generate_matched_gaussian_bunch(\n    num_particles=n_part,\n    total_intensity_particles=bunch_intensity,\n    nemitt_x=nemitt_x,\n    nemitt_y=nemitt_y,\n    sigma_z=sigma_z,\n    line=line,\n    engine=\"single-rf-harmonic\",\n)"
      ]
    },
    {
      "cell_type": "markdown",
      "metadata": {},
      "source": [
        "## Generating the IBS Kick Class\nJust as all user-facing classes in ``xibs``, the `SimpleKickIBS` :cite:`PRAB:Bruce:Simple_IBS_Kicks`\nclass is instantiated by providing a `BeamParameters` and an `OpticsParameters` objects:\n\n"
      ]
    },
    {
      "cell_type": "code",
      "execution_count": null,
      "metadata": {
        "collapsed": false
      },
      "outputs": [],
      "source": [
        "# Let's make sure we get logging output to demonstrate\nlogging.basicConfig(\n    level=logging.WARNING,\n    stream=sys.stdout,\n    format=\"[%(asctime)s] [%(levelname)s] - %(module)s.%(funcName)s:%(lineno)d - %(message)s\",\n    datefmt=\"%H:%M:%S\",\n)\n\nbeamparams = BeamParameters.from_line(line, n_part=bunch_intensity)\nopticsparams = OpticsParameters.from_line(line)\nIBS = KineticKickIBS(beamparams, opticsparams)"
      ]
    },
    {
      "cell_type": "markdown",
      "metadata": {},
      "source": [
        "## Computing and Applying IBS Kicks\nSince calculating the IBS kicks requires computing the diffusion and friction rates,\nwhich can be computationally expensive and not necessary every turn, this functionality\nis distinct from the application of the kicks to the particles. The so-called \"kick\ncoefficients\" are computed directly from the particle distribution by calling the\ndedicated method. They correspond to the diffusion minus friction terms, and are\nreturned as an `IBSKickCoefficients` object, which is stored internally in the **IBS**\nobject and will be updated internally each time they are computed.\n\n"
      ]
    },
    {
      "cell_type": "code",
      "execution_count": null,
      "metadata": {
        "collapsed": false
      },
      "outputs": [],
      "source": [
        "kick_coefficients = IBS.compute_kick_coefficients(particles)\nprint(kick_coefficients)\nprint(IBS.kick_coefficients)"
      ]
    },
    {
      "cell_type": "markdown",
      "metadata": {},
      "source": [
        "For the kinetic formalism, the diffusion and friction coefficients are also\nstored internally (and updated each time the method above is called). They\ncan be accessed as the `diffusion_coefficients` and `friction_coefficients`\nattributes of the `KineticKickIBS` object.\n\n.. hint::\n    Note that in this formalism the order of magnitude of diffusion and friction\n    coefficients, as well as the resulting `IBSKickCoefficients`` is very different\n    than the ones from the simple kicks formalism.\n\n"
      ]
    },
    {
      "cell_type": "code",
      "execution_count": null,
      "metadata": {
        "collapsed": false
      },
      "outputs": [],
      "source": [
        "print(IBS.diffusion_coefficients)\nprint(IBS.friction_coefficients)"
      ]
    },
    {
      "cell_type": "markdown",
      "metadata": {},
      "source": [
        "We can also manually set arbitrary values through these attributes. We will do\nso here with unrealistically high diffusion values compared to the ones above,\nin order to demonstrate the effect of the kick. The kick is applied to the particles\nwith the `apply_ibs_kick` method, which computes and applies momentum kicks on each\nplane, for both diffusion and friction effects, weigthed by the line density of the\nbunch. Friction terms lead to a reduction of the beam sizes, while diffusion terms\nlead to an increase.\n\n"
      ]
    },
    {
      "cell_type": "code",
      "execution_count": null,
      "metadata": {
        "collapsed": false
      },
      "outputs": [],
      "source": [
        "# Let's do strong diffusion and small friction to showcase the effect\nIBS.diffusion_coefficients = DiffusionCoefficients(5e5, 1e6, 5e5)\nparticles2 = particles.copy()  # let's apply on a copy of the particles\nIBS.apply_ibs_kick(particles2)"
      ]
    },
    {
      "cell_type": "markdown",
      "metadata": {},
      "source": [
        "We can have a look at the effect on the particles (see the [xsuite user guide](https://xsuite.readthedocs.io/en/latest/particlesmanip.html) for more)\n\n"
      ]
    },
    {
      "cell_type": "code",
      "execution_count": null,
      "metadata": {
        "collapsed": false
      },
      "outputs": [],
      "source": [
        "fig, (axx, axy, axz) = plt.subplots(1, 3, figsize=(15, 5))\n\naxx.plot(1e4 * particles2.x, 1e4 * particles2.px, \".\", label=\"After Kick\")\naxx.plot(1e4 * particles.x, 1e4 * particles.px, \".\", label=\"Before Kick\")\n\naxy.plot(1e6 * particles2.y, 1e6 * particles2.py, \".\", label=\"After Kick\")\naxy.plot(1e6 * particles.y, 1e6 * particles.py, \".\", label=\"Before Kick\")\n\naxz.plot(1e3 * particles2.zeta, 1e3 * particles2.delta, \".\", label=\"After Kick\")\naxz.plot(1e3 * particles.zeta, 1e3 * particles.delta, \".\", label=\"Before Kick\")\n\naxx.set_xlabel(r\"$x$ [$10^{-4}$m]\")\naxx.set_ylabel(r\"$p_x$ [$10^{-4}$]\")\naxy.set_xlabel(r\"$y$ [$10^{-6}$m]\")\naxy.set_ylabel(r\"$p_y$ [$10^{-6}$]\")\naxz.set_xlabel(r\"$z$ [$10^{-3}$]\")\naxz.set_ylabel(r\"$\\delta$ [$10^{-3}$]\")\n\nfor axis in (axx, axy, axz):\n    axis.yaxis.set_major_locator(plt.MaxNLocator(3))\n    axis.legend()\n\nplt.tight_layout()\nplt.show()"
      ]
    },
    {
      "cell_type": "markdown",
      "metadata": {},
      "source": [
        "## Applying IBS Kicks in Tracking\nLet's now include this computation and application of IBS kicks in a tracking\nsimulation. We will first re-initialize the particle distribution with less\nindividual particles to speed up the tracking, and re-initialize IBS classes.\nWe will also track the analytical evolution of relevant quantities - as done\nin the `Nagaitsev example <demo-analytical-nagaitsev>` - for comparison.\n\n"
      ]
    },
    {
      "cell_type": "code",
      "execution_count": null,
      "metadata": {
        "collapsed": false
      },
      "outputs": [],
      "source": [
        "IBS = KineticKickIBS(beamparams, opticsparams)\nNIBS = NagaitsevIBS(beamparams, opticsparams)\n\n# Re-create particles with less elements as tracking takes a while\nn_part = int(2.5e3)  # 2500 particles should be enough for this example\nparticles = xp.generate_matched_gaussian_bunch(\n    num_particles=n_part,\n    total_intensity_particles=bunch_intensity,\n    nemitt_x=nemitt_x,\n    nemitt_y=nemitt_y,\n    sigma_z=sigma_z,\n    line=line,\n)\n\n# Define some parameters for the tracking\nnturns = 1_000  # number of turns to loop for\nibs_step = 50  # frequency at which to re-compute coefficients in [turns]"
      ]
    },
    {
      "cell_type": "markdown",
      "metadata": {},
      "source": [
        "We will also set up a dataclass conveniently to store the results:\n\n"
      ]
    },
    {
      "cell_type": "code",
      "execution_count": null,
      "metadata": {
        "collapsed": false
      },
      "outputs": [],
      "source": [
        "@dataclass\nclass Records:\n    epsilon_x: np.ndarray\n    epsilon_y: np.ndarray\n    sigma_delta: np.ndarray\n    bunch_length: np.ndarray\n\n    def update_at_turn(self, turn: int, parts: xp.Particles, twiss: xt.TwissTable):\n        \"\"\"Automatically update the records at given turn from the xpart.Particles.\"\"\"\n        self.epsilon_x[turn] = _geom_epsx(parts, twiss)\n        self.epsilon_y[turn] = _geom_epsy(parts, twiss)\n        self.sigma_delta[turn] = _sigma_delta(parts)\n        self.bunch_length[turn] = _bunch_length(parts)\n\n    @classmethod\n    def init_zeroes(cls, n_turns: int) -> Self:  # noqa: F821\n        \"\"\"Initialize the dataclass with arrays of zeroes.\"\"\"\n        return cls(\n            epsilon_x=np.zeros(n_turns, dtype=float),\n            epsilon_y=np.zeros(n_turns, dtype=float),\n            sigma_delta=np.zeros(n_turns, dtype=float),\n            bunch_length=np.zeros(n_turns, dtype=float),\n        )\n\n\n# Initialize the dataclasses\nkicked_tbt = Records.init_zeroes(nturns)\nanalytical_tbt = Records.init_zeroes(nturns)\n\n# Store the initial values\nkicked_tbt.update_at_turn(0, particles, twiss)\nanalytical_tbt.update_at_turn(0, particles, twiss)"
      ]
    },
    {
      "cell_type": "markdown",
      "metadata": {},
      "source": [
        "Now, since ``xibs`` is not fully integrated into Xsuite, we will have to manually\napply the IBS kick at each turn of tracking, and also manually trigger the turn\nof tracking. Just like in the analytical examples, we do so in a loop over the turns:\n\n"
      ]
    },
    {
      "cell_type": "code",
      "execution_count": null,
      "metadata": {
        "collapsed": false
      },
      "outputs": [],
      "source": [
        "# We loop here now\nfor turn in range(1, nturns):\n    # ----- Potentially re-compute the IBS growth rates and kick coefficients ----- #\n    if (turn % ibs_step == 0) or (turn == 1):\n        print(f\"Turn {turn:d}: re-computing diffusion and friction terms\")\n        # Compute kick coefficients from the particle distribution at this moment\n        IBS.compute_kick_coefficients(particles)\n        # Compute analytical values from those at the previous turn\n        NIBS.growth_rates(\n            analytical_tbt.epsilon_x[turn - 1],\n            analytical_tbt.epsilon_y[turn - 1],\n            analytical_tbt.sigma_delta[turn - 1],\n            analytical_tbt.bunch_length[turn - 1],\n        )\n    else:\n        print(f\"Turn {turn:d}\")\n\n    # ----- Manually Apply IBS Kick and Track Turn ----- #\n    IBS.apply_ibs_kick(particles)\n    line.track(particles, num_turns=1)\n\n    # ----- Update records for tracked particles ----- #\n    kicked_tbt.update_at_turn(turn, particles, twiss)\n\n    # ----- Compute analytical Emittances from previous turn values & update records----- #\n    ana_emit_x, ana_emit_y, ana_sig_delta, ana_bunch_length = NIBS.emittance_evolution(\n        analytical_tbt.epsilon_x[turn - 1],\n        analytical_tbt.epsilon_y[turn - 1],\n        analytical_tbt.sigma_delta[turn - 1],\n        analytical_tbt.bunch_length[turn - 1],\n    )\n    analytical_tbt.epsilon_x[turn] = ana_emit_x\n    analytical_tbt.epsilon_y[turn] = ana_emit_y\n    analytical_tbt.sigma_delta[turn] = ana_sig_delta\n    analytical_tbt.bunch_length[turn] = ana_bunch_length"
      ]
    },
    {
      "cell_type": "markdown",
      "metadata": {},
      "source": [
        "Feel free to run this simulation for more turns, with a different frequency of\nthe IBS kick coefficients & growth rates re-computation, or with more particles.\nAfter this loop is done running, we can plot the evolutions across turns:\n\n"
      ]
    },
    {
      "cell_type": "code",
      "execution_count": null,
      "metadata": {
        "collapsed": false
      },
      "outputs": [],
      "source": [
        "turns = np.arange(nturns, dtype=int)  # array of turns\nfig, axs = plt.subplot_mosaic([[\"epsx\", \"epsy\"], [\"sigd\", \"bl\"]], sharex=True, figsize=(15, 7))\n\n# Plot from tracked & kicked particles\naxs[\"epsx\"].plot(turns, kicked_tbt.epsilon_x * 1e10, lw=2, label=\"Kinetic Kicks\")\naxs[\"epsy\"].plot(turns, kicked_tbt.epsilon_y * 1e13, lw=2, label=\"Kinetic Kicks\")\naxs[\"sigd\"].plot(turns, kicked_tbt.sigma_delta * 1e3, lw=2, label=\"Kinetic Kicks\")\naxs[\"bl\"].plot(turns, kicked_tbt.bunch_length * 1e3, lw=2, label=\"Kinetic Kicks\")\n\n# Plot from analytical values\naxs[\"epsx\"].plot(turns, analytical_tbt.epsilon_x * 1e10, lw=2.5, label=\"Analytical\")\naxs[\"epsy\"].plot(turns, analytical_tbt.epsilon_y * 1e13, lw=2.5, label=\"Analytical\")\naxs[\"sigd\"].plot(turns, analytical_tbt.sigma_delta * 1e3, lw=2.5, label=\"Analytical\")\naxs[\"bl\"].plot(turns, analytical_tbt.bunch_length * 1e3, lw=2.5, label=\"Analytical\")\n\n# Axes parameters\naxs[\"epsx\"].set_ylabel(r\"$\\varepsilon_x$ [$10^{-10}$m]\")\naxs[\"epsy\"].set_ylabel(r\"$\\varepsilon_y$ [$10^{-13}$m]\")\naxs[\"sigd\"].set_ylabel(r\"$\\sigma_{\\delta}$ [$10^{-3}$]\")\naxs[\"bl\"].set_ylabel(r\"Bunch length [mm]\")\n\nfor axis in (axs[\"epsy\"], axs[\"bl\"]):\n    axis.yaxis.set_label_position(\"right\")\n    axis.yaxis.tick_right()\n\nfor axis in (axs[\"sigd\"], axs[\"bl\"]):\n    axis.set_xlabel(\"Turn Number\")\n\nfor axis in axs.values():\n    axis.yaxis.set_major_locator(plt.MaxNLocator(3))\n    axis.legend(loc=9, ncols=4)\n\nfig.align_ylabels((axs[\"epsx\"], axs[\"sigd\"]))\nfig.align_ylabels((axs[\"epsy\"], axs[\"bl\"]))\n\nplt.tight_layout()\nplt.show()"
      ]
    },
    {
      "cell_type": "markdown",
      "metadata": {},
      "source": [
        ".. admonition:: References\n\n   The use of the following functions, methods, classes and modules is shown\n   in this example:\n\n   - `~xibs.analytical`: `~.xibs.analytical.NagaitsevIBS`, `~.xibs.analytical.NagaitsevIBS.growth_rates`, `~.xibs.analytical.NagaitsevIBS.emittance_evolution`\n   - `~xibs.inputs`: `~xibs.inputs.BeamParameters`, `~xibs.inputs.OpticsParameters`\n   - `~xibs.kicks`: `~.xibs.kicks.DiffusionCoefficients`, `~.xibs.kicks.FrictionCoefficients`, `~.xibs.kicks.IBSKickCoefficients`, `~.xibs.kicks.KineticKickIBS`, `~.xibs.kicks.KineticKickIBS.apply_ibs_kick`, `~.xibs.kicks.KineticKickIBS.compute_kick_coefficients`\n\n"
      ]
    }
  ],
  "metadata": {
    "kernelspec": {
      "display_name": "Python 3",
      "language": "python",
      "name": "python3"
    },
    "language_info": {
      "codemirror_mode": {
        "name": "ipython",
        "version": 3
      },
      "file_extension": ".py",
      "mimetype": "text/x-python",
      "name": "python",
      "nbconvert_exporter": "python",
      "pygments_lexer": "ipython3",
      "version": "3.11.8"
    }
  },
  "nbformat": 4,
  "nbformat_minor": 0
}