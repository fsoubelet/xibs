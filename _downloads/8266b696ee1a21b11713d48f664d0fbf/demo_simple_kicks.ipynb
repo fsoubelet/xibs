{
  "cells": [
    {
      "cell_type": "markdown",
      "metadata": {},
      "source": [
        "\n\n# Simple IBS Kicks Tracking\n\nThis example shows how to use the `~.xibs.kicks.simple.SimpleKickIBS` class\nto calculate IBS kicks to apply to an `xpart.Particles` object during tracking.\n\nWe will demonstrate using an `xtrack.Line` of the ``MACHINE``, for a ``PARTICLE`` beam.\n\n.. important::\n    As `xibs` is still a prototype implementation, the integration of IBS effects\n    into `xsuite` tracking simulations is not seamless, as we will see.\n"
      ]
    },
    {
      "cell_type": "code",
      "execution_count": null,
      "metadata": {
        "collapsed": false
      },
      "outputs": [],
      "source": [
        "import json\nimport warnings\n\nfrom dataclasses import dataclass\n\nimport matplotlib.pyplot as plt\nimport numpy as np\nimport xpart as xp\nimport xtrack as xt\n\nfrom xibs.inputs import BeamParameters, OpticsParameters\nfrom xibs.kicks.simple import SimpleKickIBS"
      ]
    },
    {
      "cell_type": "markdown",
      "metadata": {},
      "source": [
        "Let's start by defining the line and particle information, as well as some\nparameters for later use:\n\n"
      ]
    },
    {
      "cell_type": "code",
      "execution_count": null,
      "metadata": {
        "collapsed": false
      },
      "outputs": [],
      "source": [
        "line_file = \"lines/machine_file.json\"\nharmonic_number = 2852\nrf_voltage = 4.5  # in MV\nenergy_loss = 0  # let's pretend\nbunch_intensity = 4.4e9\nsigma_z = 1.58e-3\nnemitt_x = 5.6644e-07\nnemitt_y = 3.7033e-09\nn_part = int(5e3)"
      ]
    },
    {
      "cell_type": "markdown",
      "metadata": {},
      "source": [
        ".. admonition:: References\n\n   The use of the following functions, methods, classes and modules is shown\n   in this example:\n\n\n"
      ]
    }
  ],
  "metadata": {
    "kernelspec": {
      "display_name": "Python 3",
      "language": "python",
      "name": "python3"
    },
    "language_info": {
      "codemirror_mode": {
        "name": "ipython",
        "version": 3
      },
      "file_extension": ".py",
      "mimetype": "text/x-python",
      "name": "python",
      "nbconvert_exporter": "python",
      "pygments_lexer": "ipython3",
      "version": "3.11.6"
    }
  },
  "nbformat": 4,
  "nbformat_minor": 0
}