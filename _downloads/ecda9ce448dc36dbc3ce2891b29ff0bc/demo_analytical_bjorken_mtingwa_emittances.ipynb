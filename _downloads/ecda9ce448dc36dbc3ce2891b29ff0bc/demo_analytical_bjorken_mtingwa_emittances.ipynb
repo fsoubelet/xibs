{
  "cells": [
    {
      "cell_type": "markdown",
      "metadata": {},
      "source": [
        "\n\n# Bjorken-Mtingwa Formalism - Analytical Growth Rates and Emittance Evolution\n\nThis example shows how to use the `~.xibs.analytical.BjorkenMtingwaIBS` class\nto calculate IBS growth rates and emittances evolutions analytically.\n\nWe will demonstrate using the case of the CERN SPS, with protons at top\nenergy, aka 450 GeV.\n"
      ]
    },
    {
      "cell_type": "code",
      "execution_count": null,
      "metadata": {
        "collapsed": false
      },
      "outputs": [],
      "source": [
        "from dataclasses import dataclass\n\nimport matplotlib.pyplot as plt\nimport numpy as np\nimport xpart as xp\nimport xtrack as xt\n\nfrom xibs.analytical import BjorkenMtingwaIBS\nfrom xibs.inputs import BeamParameters, OpticsParameters\n\nplt.rcParams.update(\n    {\n        \"font.family\": \"serif\",\n        \"font.size\": 20,\n        \"axes.titlesize\": 20,\n        \"axes.labelsize\": 20,\n        \"xtick.labelsize\": 20,\n        \"ytick.labelsize\": 20,\n        \"legend.fontsize\": 15,\n        \"figure.titlesize\": 20,\n    }\n)"
      ]
    },
    {
      "cell_type": "markdown",
      "metadata": {},
      "source": [
        "Let's start by defining the line and particle information, as well as some\nparameters for later use:\n\n"
      ]
    },
    {
      "cell_type": "code",
      "execution_count": null,
      "metadata": {
        "collapsed": false
      },
      "outputs": [],
      "source": [
        "line_file = \"lines/sps_top_protons.json\"\nharmonic_number = 4653\ncavity_name = \"actcse.31632\"  # from xsuite documentation examples\ncavity_lag = 180  # from xsuite documentation examples\nrf_frequency = 200e6  # from xsuite documentation examples\nrf_voltage = 4  # in MV,  from xsuite documentation examples\nenergy_loss = 0  # let's pretend ;)\nbunch_intensity = 1.2e11\nsigma_z = 22.5e-2  # from xsuite documentation examples\nnemitt_x = 2e-6  # from xsuite documentation examples\nnemitt_y = 2.5e-6  # from xsuite documentation examples\nn_part = int(5e3)  # for this example let's not use too many particles"
      ]
    },
    {
      "cell_type": "markdown",
      "metadata": {},
      "source": [
        "## Setting up line and particles\nLet's start by loading the `xtrack.Line`, activating RF cavities and\ngenerating a matched Gaussian bunch:\n\n"
      ]
    },
    {
      "cell_type": "code",
      "execution_count": null,
      "metadata": {
        "collapsed": false
      },
      "outputs": [],
      "source": [
        "line = xt.Line.from_json(line_file)\nline.build_tracker()  # The line.particle_ref is included in the file\n\n# ----- Power accelerating cavity - from xsuite documentation examples ----- #\nline[cavity_name].voltage = rf_voltage * 1e6  # to be given in [V] here\nline[cavity_name].lag = cavity_lag\nline[cavity_name].frequency = rf_frequency\ntwiss = line.twiss()\n\nparticles = xp.generate_matched_gaussian_bunch(\n    num_particles=n_part,\n    total_intensity_particles=bunch_intensity,\n    nemitt_x=nemitt_x,\n    nemitt_y=nemitt_y,\n    sigma_z=sigma_z,\n    particle_ref=line.particle_ref,\n    line=line,\n)"
      ]
    },
    {
      "cell_type": "markdown",
      "metadata": {},
      "source": [
        "We can have a look at the generated particles (see the [xsuite user guide](https://xsuite.readthedocs.io/en/latest/particlesmanip.html) for more)\n\n"
      ]
    },
    {
      "cell_type": "code",
      "execution_count": null,
      "metadata": {
        "collapsed": false
      },
      "outputs": [],
      "source": [
        "fig, (axx, axy, axz) = plt.subplots(3, 1, figsize=(9, 11))\n\naxx.plot(1e6 * particles.x, 1e5 * particles.px, \".\", ms=3)\naxy.plot(1e6 * particles.y, 1e6 * particles.py, \".\", ms=3)\naxz.plot(1e3 * particles.zeta, 1e3 * particles.delta, \".\", ms=3)\n\naxx.set_xlabel(r\"$x$ [$\\mu$m]\")\naxx.set_ylabel(r\"$p_x$ [$10^{-5}$]\")\naxy.set_xlabel(r\"$y$ [$\\mu$m]\")\naxy.set_ylabel(r\"$p_y$ [$10^{-3}$]\")\naxz.set_xlabel(r\"$z$ [$10^{-3}$]\")\naxz.set_ylabel(r\"$\\delta$ [$10^{-3}$]\")\nfig.align_ylabels([axx, axy, axz])\nplt.tight_layout()\nplt.show()"
      ]
    },
    {
      "cell_type": "markdown",
      "metadata": {},
      "source": [
        "We can compute initial (geometrical) emittances as well as the bunch length\nfrom the `xpart.Particles` object:\n\n"
      ]
    },
    {
      "cell_type": "code",
      "execution_count": null,
      "metadata": {
        "collapsed": false
      },
      "outputs": [],
      "source": [
        "sig_x = np.std(particles.x[particles.state > 0])  # horizontal stdev\nsig_y = np.std(particles.y[particles.state > 0])  # vertical stdev\nsig_delta = np.std(particles.delta[particles.state > 0])  # momentum spread\n\n# Compute horizontal & vertical geometric emittances as well as the bunch length, all in [m]\ngeom_epsx = (sig_x**2 - (twiss[\"dx\"][0] * sig_delta) ** 2) / twiss[\"betx\"][0]\ngeom_epsy = sig_y**2 / twiss[\"bety\"][0]\nbunch_l = np.std(particles.zeta[particles.state > 0])"
      ]
    },
    {
      "cell_type": "markdown",
      "metadata": {},
      "source": [
        "## Computing IBS Growth Rates\nLet us instantiate the `~.xibs.analytical.BjorkenMtingwaIBS` class. It is fairly\nsimple and is done from both the beam parameters of the particles and the\noptics parameters of the line. For each of these a specific `dataclass`\nis provided in the `~.xibs.inputs` module.\n\n"
      ]
    },
    {
      "cell_type": "code",
      "execution_count": null,
      "metadata": {
        "collapsed": false
      },
      "outputs": [],
      "source": [
        "beam_params = BeamParameters(particles)\noptics = OpticsParameters(twiss)\nIBS = BjorkenMtingwaIBS(beam_params, optics)"
      ]
    },
    {
      "cell_type": "markdown",
      "metadata": {},
      "source": [
        "Just like for NagaitsevIBS, we can ask for the **IBS** growth rates to be computed\nwith a dedicated function. Notice the class will complain that our provided Twiss\nwas not computed at the center of elements, but still perform the calculation. At\nthe moment xtrack does not allow Twissing at the center of elements, but we could\nget this from MAD-X. These are returned by the function but also stored and updated\ninternally each time they are computed.\n\n"
      ]
    },
    {
      "cell_type": "code",
      "execution_count": null,
      "metadata": {
        "collapsed": false
      },
      "outputs": [],
      "source": [
        "growth_rates = IBS.growth_rates(geom_epsx, geom_epsy, sig_delta, bunch_l)\nprint(growth_rates)\nprint(IBS.ibs_growth_rates)"
      ]
    },
    {
      "cell_type": "markdown",
      "metadata": {},
      "source": [
        "## Computing New Emittances from Growth Rates\nFrom these one can compute the emittances at the next time step. For the emittances\nat the next turn, once should use $1 / f_{rev}$ as the time step, which\nis the default value used if it is not provided.\n\n"
      ]
    },
    {
      "cell_type": "code",
      "execution_count": null,
      "metadata": {
        "collapsed": false
      },
      "outputs": [],
      "source": [
        "new_geom_epsx, new_geom_epsy, new_sig_delta, new_bunch_length = IBS.emittance_evolution(\n    geom_epsx, geom_epsy, sig_delta, bunch_l\n)\nprint(f\"Next time step geometrical epsilon_x = {new_geom_epsx} m\")\nprint(f\"Next time step geometrical epsilon_y = {new_geom_epsy} m\")\nprint(f\"Next time step sigma_delta = {new_sig_delta}\")\nprint(f\"Next time step bunch length = {new_bunch_length} m\")"
      ]
    },
    {
      "cell_type": "markdown",
      "metadata": {},
      "source": [
        "## Analytical Evolution for a Time Period\nOne can then analytically look at the evolution through time by looping\nover this calculation. Let's do this for 5 hours, recomputing the growth rates\nevery 10 minutes. The more frequent this update the more physically accurate\nthe results will be, but the longer the simulation as this computation is the most\ncompute-intensive process.\n\n"
      ]
    },
    {
      "cell_type": "code",
      "execution_count": null,
      "metadata": {
        "collapsed": false
      },
      "outputs": [],
      "source": [
        "nsecs = 5 * 3_600  # that's 5h\nibs_step = 10 * 60  # re-compute rates every 10min\nseconds = np.linspace(0, nsecs, nsecs).astype(int)\n\n# Set up a dataclass to store the results\n@dataclass\nclass Records:\n    \"\"\"Dataclass to store (and update) important values through tracking.\"\"\"\n\n    epsilon_x: np.ndarray\n    epsilon_y: np.ndarray\n    sig_delta: np.ndarray\n    bunch_length: np.ndarray\n\n# Initialize the dataclass\nturn_by_turn = Records(\n    epsilon_x=np.zeros(nsecs, dtype=float),\n    epsilon_y=np.zeros(nsecs, dtype=float),\n    sig_delta=np.zeros(nsecs, dtype=float),\n    bunch_length=np.zeros(nsecs, dtype=float),\n)\n\n# Store the initial values\nturn_by_turn.bunch_length[0] = np.std(particles.zeta[particles.state > 0])\nturn_by_turn.sig_delta[0] = sig_delta\nturn_by_turn.epsilon_x[0] = (sig_x**2 - (twiss[\"dx\"][0] * sig_delta) ** 2) / twiss[\"betx\"][0]\nturn_by_turn.epsilon_y[0] = sig_y**2 / twiss[\"bety\"][0]\n\n# We loop here now\nfor sec in range(1, nsecs):\n    # ----- Potentially re-compute the IBS growth rates ----- #\n    if (sec % ibs_step == 0) or (sec == 1):\n        print(f\"At {sec}s: re-computing growth rates\")\n        # We compute from values at the previous turn\n        IBS.growth_rates(\n            turn_by_turn.epsilon_x[sec - 1],\n            turn_by_turn.epsilon_y[sec - 1],\n            turn_by_turn.sig_delta[sec - 1],\n            turn_by_turn.bunch_length[sec - 1],\n        )\n\n    # ----- Compute the new emittances ----- #\n    new_emit_x, new_emit_y, new_sig_delta, new_bunch_length = IBS.emittance_evolution(\n        epsx=turn_by_turn.epsilon_x[sec - 1],\n        epsy=turn_by_turn.epsilon_y[sec - 1],\n        sigma_delta=turn_by_turn.sig_delta[sec - 1],\n        bunch_length=turn_by_turn.bunch_length[sec - 1],\n        dt = 1.0  # get at next second\n    )\n\n    # ----- Update the records with the new values ----- #\n    turn_by_turn.epsilon_x[sec] = new_emit_x\n    turn_by_turn.epsilon_y[sec] = new_emit_y\n    turn_by_turn.sig_delta[sec] = new_sig_delta\n    turn_by_turn.bunch_length[sec] = new_bunch_length"
      ]
    },
    {
      "cell_type": "markdown",
      "metadata": {},
      "source": [
        "Feel free to run this simulation for longer, or with a different frequency\nof the IBS growth rates re-computation. After this is done running, we can plot\nthe evolutions across the turns:\n\n"
      ]
    },
    {
      "cell_type": "code",
      "execution_count": null,
      "metadata": {
        "collapsed": false
      },
      "outputs": [],
      "source": [
        "fig, axs = plt.subplot_mosaic(\n    [[\"epsx\", \"epsy\"], [\"sigd\", \"bl\"]], sharex=True, figsize=(13, 7)\n)\n\naxs[\"epsx\"].plot(seconds / 3600, 1e9 * turn_by_turn.epsilon_x, lw=2)\naxs[\"epsy\"].plot(seconds / 3600, 1e9 * turn_by_turn.epsilon_y, lw=2)\naxs[\"sigd\"].plot(seconds / 3600, 1e4 * turn_by_turn.sig_delta, lw=2)\naxs[\"bl\"].plot(seconds / 3600, 1e2 * turn_by_turn.bunch_length, lw=2)\n\n# Axes parameters\naxs[\"epsx\"].set_ylabel(r\"$\\varepsilon_x$ [$10^{-9}$m]\")\naxs[\"epsy\"].set_ylabel(r\"$\\varepsilon_y$ [$10^{-9}$m]\")\naxs[\"sigd\"].set_ylabel(r\"$\\sigma_{\\delta}$ [$10^{-4}$]\")\naxs[\"bl\"].set_ylabel(r\"Bunch length [cm]\")\n\nfor axis in (axs[\"epsy\"], axs[\"bl\"]):\n    axis.yaxis.set_label_position(\"right\")\n    axis.yaxis.tick_right()\n\nfor axis in (axs[\"sigd\"], axs[\"bl\"]):\n    axis.set_xlabel(\"Duration [h]\")\n\nfor axis in axs.values():\n    axis.yaxis.set_major_locator(plt.MaxNLocator(3))\n\nfig.align_ylabels((axs[\"epsx\"], axs[\"sigd\"]))\nfig.align_ylabels((axs[\"epsy\"], axs[\"bl\"]))\n\nplt.tight_layout()\nplt.show()"
      ]
    },
    {
      "cell_type": "markdown",
      "metadata": {},
      "source": [
        ".. admonition:: References\n\n   The use of the following functions, methods, classes and modules is shown\n   in this example:\n\n   - `~xibs.analytical`: `~.xibs.analytical.BjorkenMtingwaIBS`, `~.xibs.analytical.BjorkenMtingwaIBS.growth_rates`, `~.xibs.analytical.BjorkenMtingwaIBS.emittance_evolution`\n   - `~xibs.inputs`: `~xibs.inputs.BeamParameters`, `~xibs.inputs.OpticsParameters`\n\n"
      ]
    }
  ],
  "metadata": {
    "kernelspec": {
      "display_name": "Python 3",
      "language": "python",
      "name": "python3"
    },
    "language_info": {
      "codemirror_mode": {
        "name": "ipython",
        "version": 3
      },
      "file_extension": ".py",
      "mimetype": "text/x-python",
      "name": "python",
      "nbconvert_exporter": "python",
      "pygments_lexer": "ipython3",
      "version": "3.11.7"
    }
  },
  "nbformat": 4,
  "nbformat_minor": 0
}