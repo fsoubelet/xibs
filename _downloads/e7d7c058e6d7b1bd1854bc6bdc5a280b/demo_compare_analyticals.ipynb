{
  "cells": [
    {
      "cell_type": "markdown",
      "metadata": {},
      "source": [
        "\n\n# Comparison of Analytical IBS Growth Rates and Emittances Evolution\n\nThis example shows a comparison of the performance of `~xibs.analytical.BjorkenMtingwaIBS`\nand `~xibs.analytical.NagaitsevIBS` vs ``MAD-X`` when computing emittances evolutions from\nanalytical IBS growth rates.\n\nWe will do the comparison by using the case of the CERN LHC, with protons at top\nenergy (aka 6 800 GeV at the moment), including the crossing schemes, which introduce\nvertical dispersion through the machine.\n\n<div class=\"alert alert-info\"><h4>Note</h4><p>This example requires the `acc-models-lhc` repository next to this file, which\n    you can get with the following command:\n\n```bash\ngit clone -b 2023 https://gitlab.cern.ch/acc-models/acc-models-lhc.git --depth 1</p></div>\n```\n"
      ]
    },
    {
      "cell_type": "code",
      "execution_count": null,
      "metadata": {
        "collapsed": false
      },
      "outputs": [],
      "source": [
        "import logging\nimport warnings\n\nfrom dataclasses import dataclass\nfrom pprint import pprint\n\nimport matplotlib.pyplot as plt\nimport numpy as np\n\nfrom helpers import _get_dummy_ibs_from_madx_rates, prepare_all\n\nwarnings.simplefilter(\"ignore\")  # for this tutorial's clarity\nlogging.basicConfig(\n    level=logging.WARNING,\n    format=\"[%(asctime)s] [%(levelname)s] - %(module)s.%(funcName)s:%(lineno)d - %(message)s\",\n    datefmt=\"%H:%M:%S\",\n)\nplt.rcParams.update(\n    {\n        \"font.family\": \"serif\",\n        \"font.size\": 20,\n        \"axes.titlesize\": 20,\n        \"axes.labelsize\": 20,\n        \"xtick.labelsize\": 20,\n        \"ytick.labelsize\": 20,\n        \"legend.fontsize\": 15,\n        \"figure.titlesize\": 20,\n    }\n)"
      ]
    },
    {
      "cell_type": "markdown",
      "metadata": {},
      "source": [
        "Let's start by setting up the lattice in ``MAD-X`` (we are using `cpymad` for\nthis) and our IBS classes. The following helper functions calls a configuration\nfile from this repository's tests, sets up the lattice and beam in ``MAD-X`` and\ncreates corresponding `~xibs.analytical.BjorkenMtingwaIBS` and\n`~xibs.analytical.NagaitsevIBS`.\n\n"
      ]
    },
    {
      "cell_type": "code",
      "execution_count": null,
      "metadata": {
        "collapsed": false
      },
      "outputs": [],
      "source": [
        "params, madx, BM_IBS, NAG_IBS = prepare_all(\n    configname=\"lhc_top_protons\",  # fetches the config file with this name\n    extrafile=\"acc-models-lhc/strengths/ATS_Nominal/2023/ats_30cm.madx\",  # to have xing\n    stdout=False,  # don't want the MAD-X output\n)"
      ]
    },
    {
      "cell_type": "markdown",
      "metadata": {},
      "source": [
        "Here `params` hold the properties we want to be analytically tracking.\nWe can check that crossing angles are present in the ``MAD-X`` lattice, and\nlead to vertical dispersion:\n\n"
      ]
    },
    {
      "cell_type": "code",
      "execution_count": null,
      "metadata": {
        "collapsed": false
      },
      "outputs": [],
      "source": [
        "pprint(params)\nprint(f\"Crossing angles in IP1/5: {madx.globals['on_x1']}, {madx.globals['on_x5']} urad\")\n\ntable = madx.table.twiss.dframe()\nplt.figure(figsize=(11, 6))\nplt.plot(table.s, table.dx, lw=2, label=\"Vertical\")\nplt.plot(table.s, table.dy, lw=2, label=\"Horizontal\")\nplt.ylabel(r\"$D_{x,y}$ [m]\")\nplt.xlabel(\"Longitudinal location [m]\")\nplt.legend()\nplt.tight_layout()\nplt.show()"
      ]
    },
    {
      "cell_type": "markdown",
      "metadata": {},
      "source": [
        "## Comparing Analytical Evolution for a Time Period\nWe will analytically look at the evolution through time by looping, just as in\nthe `Bjorken-Mtingwa <demo-analytical-bjorken-mtingwa>` and\n`Nagaitsev <demo-analytical-nagaitsev>` analytical examples, respectively.\nLet's do so for 10 hours of beam time, recomputing the growth rates every 30 minutes.\n\n"
      ]
    },
    {
      "cell_type": "code",
      "execution_count": null,
      "metadata": {
        "collapsed": false
      },
      "outputs": [],
      "source": [
        "# Duration to track for and frequency at which to re-compute the growth rates, both in [s]\nnsecs = 10 * 3_600  # that's 10h\nibs_step = 30 * 60  # re-compute rates every 30min\nseconds = np.linspace(0, nsecs, nsecs).astype(int)\nbeta_rel: float = BM_IBS.beam_parameters.beta_rel\n\n\n# Set up a dataclass to store the results\n@dataclass\nclass Records:\n    \"\"\"Dataclass to store (and update) important values through tracking.\"\"\"\n\n    eps_x: np.ndarray  # geometric horizontal emittance in [m]\n    eps_y: np.ndarray  # geometric vertical emittance in [m]\n    sigd: np.ndarray  # momentum spread\n    bl: np.ndarray  # bunch length in [m]\n\n\n# Initialize dataclasses for each approach\nmadx_tbt = Records(\n    np.zeros(nsecs, dtype=float),\n    np.zeros(nsecs, dtype=float),\n    np.zeros(nsecs, dtype=float),\n    np.zeros(nsecs, dtype=float),\n)\nbm_tbt = Records(\n    np.zeros(nsecs, dtype=float),\n    np.zeros(nsecs, dtype=float),\n    np.zeros(nsecs, dtype=float),\n    np.zeros(nsecs, dtype=float),\n)\nnag_tbt = Records(\n    np.zeros(nsecs, dtype=float),\n    np.zeros(nsecs, dtype=float),\n    np.zeros(nsecs, dtype=float),\n    np.zeros(nsecs, dtype=float),\n)\n\n# Initialize data at second 0 (initial state) for all structures\nmadx_tbt.eps_x[0] = bm_tbt.eps_x[0] = nag_tbt.eps_x[0] = params.geom_epsx\nmadx_tbt.eps_y[0] = bm_tbt.eps_y[0] = nag_tbt.eps_y[0] = params.geom_epsy\nmadx_tbt.sigd[0] = bm_tbt.sigd[0] = nag_tbt.sigd[0] = params.sig_delta\nmadx_tbt.bl[0] = bm_tbt.bl[0] = nag_tbt.bl[0] = params.bunch_length"
      ]
    },
    {
      "cell_type": "markdown",
      "metadata": {},
      "source": [
        "With the settings above and this loop, we compute the emittances\nevery second but we only update the growth rates every 30 minutes.\n\n"
      ]
    },
    {
      "cell_type": "code",
      "execution_count": null,
      "metadata": {
        "collapsed": false
      },
      "outputs": [],
      "source": [
        "for sec in range(1, nsecs):\n    # ----- Potentially re-compute the IBS growth rates ----- #\n    if (sec % ibs_step == 0) or (sec == 1):\n        print(f\"At {sec}s: re-computing growth rates\")\n        # For MAD-X - call the 'twiss' then 'ibs' commands (computes from beam attributes)\n        MAD_IBS = _get_dummy_ibs_from_madx_rates(\n            madx\n        )  # calls twiss, ibs, gets rates and puts them in returned 'dummy IBS'\n        MAD_IBS.beam_parameters = BM_IBS.beam_parameters  # we will want to access these\n        MAD_IBS.optics = BM_IBS.optics  # we will want to access these\n        # For Bjorken-Mtingwa - compute from values at the previous sec\n        BM_IBS.growth_rates(\n            bm_tbt.eps_x[sec - 1],\n            bm_tbt.eps_y[sec - 1],\n            bm_tbt.sigd[sec - 1],\n            bm_tbt.bl[sec - 1],\n        )\n        # For Nagaitsev - compute from values at the previous sec\n        NAG_IBS.growth_rates(\n            nag_tbt.eps_x[sec - 1],\n            nag_tbt.eps_y[sec - 1],\n            nag_tbt.sigd[sec - 1],\n            nag_tbt.bl[sec - 1],\n        )\n\n    # ----- Compute the new parameters using current growth rates ----- #\n    # For MAD-X - compute from values at previous second and specify dt=1s\n    madx_epsx, madx_epsy, madx_sigd, madx_bl = MAD_IBS.emittance_evolution(\n        madx_tbt.eps_x[sec - 1],\n        madx_tbt.eps_y[sec - 1],\n        madx_tbt.sigd[sec - 1],\n        madx_tbt.bl[sec - 1],\n        dt=1,\n    )\n    # For Bjorken-Mtingwa - compute from values at previous second and specify dt=1s\n    bm_epsx, bm_epsy, bm_sigd, bm_bl = BM_IBS.emittance_evolution(\n        bm_tbt.eps_x[sec - 1],\n        bm_tbt.eps_y[sec - 1],\n        bm_tbt.sigd[sec - 1],\n        bm_tbt.bl[sec - 1],\n        dt=1,\n    )\n    # For Nagaitsev - compute from values at previous second and specify dt=1s\n    nag_epsx, nag_epsy, nag_sigd, nag_bl = NAG_IBS.emittance_evolution(\n        nag_tbt.eps_x[sec - 1],\n        nag_tbt.eps_y[sec - 1],\n        nag_tbt.sigd[sec - 1],\n        nag_tbt.bl[sec - 1],\n        dt=1,\n    )\n\n    # ----- Update the records with the new values ----- #\n    # For MAD-X\n    madx_tbt.eps_x[sec] = madx_epsx\n    madx_tbt.eps_y[sec] = madx_epsy\n    madx_tbt.sigd[sec] = madx_sigd\n    madx_tbt.bl[sec] = madx_bl\n\n    # For Bjorken-Mtingwa\n    bm_tbt.eps_x[sec] = bm_epsx\n    bm_tbt.eps_y[sec] = bm_epsy\n    bm_tbt.sigd[sec] = bm_sigd\n    bm_tbt.bl[sec] = bm_bl\n\n    # For Nagaitsev\n    nag_tbt.eps_x[sec] = nag_epsx\n    nag_tbt.eps_y[sec] = nag_epsy\n    nag_tbt.sigd[sec] = nag_sigd\n    nag_tbt.bl[sec] = nag_bl\n\n    # ----- Update the beam attributes for MAD-X ----- #\n    madx.sequence.lhcb1.beam.ex = madx_epsx\n    madx.sequence.lhcb1.beam.ey = madx_epsy\n    madx.sequence.lhcb1.beam.sige = madx_sigd * beta_rel**2\n    madx.sequence.lhcb1.beam.sigt = madx_bl"
      ]
    },
    {
      "cell_type": "markdown",
      "metadata": {},
      "source": [
        "Feel free to run this simulation for more turns, or with a different frequency\nof the IBS growth rates re-computation. After this is done running, we can plot\nthe evolutions across the turns:\n\n"
      ]
    },
    {
      "cell_type": "code",
      "execution_count": null,
      "metadata": {
        "collapsed": false
      },
      "outputs": [],
      "source": [
        "fig, axs = plt.subplot_mosaic([[\"epsx\", \"epsy\"], [\"sigd\", \"bl\"]], sharex=True, figsize=(13, 7))\n\n# Plotting horizontal emittances\naxs[\"epsx\"].plot(seconds / 3600, 1e10 * madx_tbt.eps_x, lw=2.5, label=\"MAD-X\")\naxs[\"epsx\"].plot(seconds / 3600, 1e10 * bm_tbt.eps_x, lw=1.5, label=\"BjorkenMtingwaIBS\")\naxs[\"epsx\"].plot(seconds / 3600, 1e10 * nag_tbt.eps_x, lw=1, label=\"NagaitsevIBS\")\n\n# Plotting vertical emittances\naxs[\"epsy\"].plot(seconds / 3600, 1e10 * madx_tbt.eps_y, lw=2.5, label=\"MAD-X\")\naxs[\"epsy\"].plot(seconds / 3600, 1e10 * bm_tbt.eps_y, lw=1.5, label=\"BjorkenMtingwaIBS\")\naxs[\"epsy\"].plot(seconds / 3600, 1e10 * nag_tbt.eps_y, lw=1.5, label=\"NagaitsevIBS\")\n\n# Plotting momentum spread\naxs[\"sigd\"].plot(seconds / 3600, 1e4 * madx_tbt.sigd, lw=2.5, label=\"MAD-X\")\naxs[\"sigd\"].plot(seconds / 3600, 1e4 * bm_tbt.sigd, lw=1.5, label=\"BjorkenMtingwaIBS\")\naxs[\"sigd\"].plot(seconds / 3600, 1e4 * nag_tbt.sigd, lw=1, label=\"NagaitsevIBS\")\n\n# Plotting bunch length\naxs[\"bl\"].plot(seconds / 3600, 1e2 * madx_tbt.bl, lw=2.5, label=\"MAD-X\")\naxs[\"bl\"].plot(seconds / 3600, 1e2 * bm_tbt.bl, lw=1.5, label=\"BjorkenMtingwaIBS\")\naxs[\"bl\"].plot(seconds / 3600, 1e2 * nag_tbt.bl, lw=1, label=\"NagaitsevIBS\")\n\n# Axes parameters\naxs[\"epsx\"].set_ylabel(r\"$\\varepsilon_x$ [$10^{-10}$m]\")\naxs[\"epsy\"].set_ylabel(r\"$\\varepsilon_y$ [$10^{-10}$m]\")\naxs[\"sigd\"].set_ylabel(r\"$\\sigma_{\\delta}$ [$10^{-4}$]\")\naxs[\"bl\"].set_ylabel(r\"Bunch length [cm]\")\naxs[\"epsx\"].legend()\n\nfor axis in (axs[\"epsy\"], axs[\"bl\"]):\n    axis.yaxis.set_label_position(\"right\")\n    axis.yaxis.tick_right()\n\nfor axis in (axs[\"sigd\"], axs[\"bl\"]):\n    axis.set_xlabel(\"Duration [h]\")\n\nfor axis in axs.values():\n    axis.xaxis.set_major_locator(plt.MaxNLocator(8))\n\nfig.align_ylabels((axs[\"epsx\"], axs[\"sigd\"]))\nfig.align_ylabels((axs[\"epsy\"], axs[\"bl\"]))\n\n# Figure parameters\nfig.suptitle(\"LHC Top Protons w/ Xing\")\nplt.tight_layout()\nplt.show()"
      ]
    },
    {
      "cell_type": "markdown",
      "metadata": {},
      "source": [
        "Notice how we observe a great agreement between different implementations,\nexcept for the vertical emittances. This is expected, as the lattice setup\nincludes vertical dispersion which is not taken into consideration by the\n`~.xibs.analytical.NagaitsevIBS` formalism.\n\n"
      ]
    },
    {
      "cell_type": "markdown",
      "metadata": {},
      "source": [
        ".. admonition:: References\n\n   The use of the following functions, methods, classes and modules is shown\n   in this example:\n\n   - `~xibs.analytical`: `~.xibs.analytical.BjorkenMtingwaIBS`, `~.xibs.analytical.NagaitsevIBS`, `~.xibs.analytical.BjorkenMtingwaIBS.growth_rates`, `~.xibs.analytical.BjorkenMtingwaIBS.emittance_evolution`\n\n"
      ]
    }
  ],
  "metadata": {
    "kernelspec": {
      "display_name": "Python 3",
      "language": "python",
      "name": "python3"
    },
    "language_info": {
      "codemirror_mode": {
        "name": "ipython",
        "version": 3
      },
      "file_extension": ".py",
      "mimetype": "text/x-python",
      "name": "python",
      "nbconvert_exporter": "python",
      "pygments_lexer": "ipython3",
      "version": "3.11.7"
    }
  },
  "nbformat": 4,
  "nbformat_minor": 0
}