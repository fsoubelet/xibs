{
  "cells": [
    {
      "cell_type": "markdown",
      "metadata": {},
      "source": [
        "\n\n# Nagaitsev Formalism - Analytical Growth Rates and Emittance Evolution\n\nThis example shows how to use the `~.xibs.analytical.NagaitsevIBS` class\nto calculate IBS growth rates and emittances evolutions analytically.\n\nWe will demonstrate using an `xtrack.Line` of the ``CLIC`` damping ring,\nfor a positron beam.\n"
      ]
    },
    {
      "cell_type": "code",
      "execution_count": null,
      "metadata": {
        "collapsed": false
      },
      "outputs": [],
      "source": [
        "import logging\nimport warnings\n\nfrom dataclasses import dataclass\n\nimport matplotlib.pyplot as plt\nimport numpy as np\nimport xpart as xp\nimport xtrack as xt\n\nfrom xibs.analytical import NagaitsevIBS\nfrom xibs.formulary import _bunch_length, _geom_epsx, _geom_epsy, _sigma_delta\nfrom xibs.inputs import BeamParameters, OpticsParameters\n\nwarnings.simplefilter(\"ignore\")  # for this tutorial's clarity\nlogging.basicConfig(\n    level=logging.WARNING,\n    format=\"[%(asctime)s] [%(levelname)s] - %(module)s.%(funcName)s:%(lineno)d - %(message)s\",\n    datefmt=\"%H:%M:%S\",\n)\nplt.rcParams.update(\n    {\n        \"font.family\": \"serif\",\n        \"font.size\": 20,\n        \"axes.titlesize\": 20,\n        \"axes.labelsize\": 20,\n        \"xtick.labelsize\": 20,\n        \"ytick.labelsize\": 20,\n        \"legend.fontsize\": 15,\n        \"figure.titlesize\": 20,\n    }\n)"
      ]
    },
    {
      "cell_type": "markdown",
      "metadata": {},
      "source": [
        "Let's start by defining the line and particle information, as well as some\nparameters for later use:\n\n"
      ]
    },
    {
      "cell_type": "code",
      "execution_count": null,
      "metadata": {
        "collapsed": false
      },
      "outputs": [],
      "source": [
        "line_file = \"lines/chrom-corr_DR.newlattice_2GHz.json\"\nbunch_intensity = 4.4e9\nsigma_z = 1.58e-3\nnemitt_x = 5.6644e-07\nnemitt_y = 3.7033e-09\nn_part = int(5e3)  # for this example let's not use too many particles"
      ]
    },
    {
      "cell_type": "markdown",
      "metadata": {},
      "source": [
        "## Setting up line and particles\nLet's start by loading the `xtrack.Line`, activating RF cavities and\ngenerating a matched Gaussian bunch:\n\n"
      ]
    },
    {
      "cell_type": "code",
      "execution_count": null,
      "metadata": {
        "collapsed": false
      },
      "outputs": [],
      "source": [
        "line = xt.Line.from_json(line_file)\nline.build_tracker(extra_headers=[\"#define XTRACK_MULTIPOLE_NO_SYNRAD\"])\n\n# ----- Power accelerating cavities ----- #\ncavities = [element for element in line.elements if isinstance(element, xt.Cavity)]\nfor cavity in cavities:\n    cavity.lag = 180\n\np0 = xp.Particles(mass0=xp.ELECTRON_MASS_EV, q0=1, p0c=2.86e9)\nline.particle_ref = p0\ntwiss = line.twiss()\n\nparticles = xp.generate_matched_gaussian_bunch(\n    num_particles=n_part,\n    total_intensity_particles=bunch_intensity,\n    nemitt_x=nemitt_x,\n    nemitt_y=nemitt_y,\n    sigma_z=sigma_z,\n    particle_ref=p0,\n    line=line,\n)"
      ]
    },
    {
      "cell_type": "markdown",
      "metadata": {},
      "source": [
        "We can have a look at the generated particles (see the [xsuite user guide](https://xsuite.readthedocs.io/en/latest/particlesmanip.html) for more)\n\n"
      ]
    },
    {
      "cell_type": "code",
      "execution_count": null,
      "metadata": {
        "collapsed": false
      },
      "outputs": [],
      "source": [
        "fig, (axx, axy, axz) = plt.subplots(3, 1, figsize=(9, 11))\n\naxx.plot(1e6 * particles.x, 1e5 * particles.px, \".\", ms=3)\naxy.plot(1e6 * particles.y, 1e6 * particles.py, \".\", ms=3)\naxz.plot(1e3 * particles.zeta, 1e3 * particles.delta, \".\", ms=3)\n\naxx.set_xlabel(r\"$x$ [$\\mu$m]\")\naxx.set_ylabel(r\"$p_x$ [$10^{-5}$]\")\naxy.set_xlabel(r\"$y$ [$\\mu$m]\")\naxy.set_ylabel(r\"$p_y$ [$10^{-3}$]\")\naxz.set_xlabel(r\"$z$ [$10^{-3}$]\")\naxz.set_ylabel(r\"$\\delta$ [$10^{-3}$]\")\nfig.align_ylabels([axx, axy, axz])\nplt.tight_layout()\nplt.show()"
      ]
    },
    {
      "cell_type": "markdown",
      "metadata": {},
      "source": [
        "We can compute initial (geometrical) emittances as well as the bunch length\nfrom the `xtrack.Particles` object:\n\n"
      ]
    },
    {
      "cell_type": "code",
      "execution_count": null,
      "metadata": {
        "collapsed": false
      },
      "outputs": [],
      "source": [
        "geom_epsx = _geom_epsx(particles, twiss.betx[0], twiss.dx[0])\ngeom_epsy = _geom_epsy(particles, twiss.bety[0], twiss.dy[0])\nbunch_l = _bunch_length(particles)\nsig_delta = _sigma_delta(particles)"
      ]
    },
    {
      "cell_type": "markdown",
      "metadata": {},
      "source": [
        "## Computing Elliptic Integrals and IBS Growth Rates\nLet us instantiate the `~.xibs.analytical.NagaitsevIBS` class. It is fairly\nsimple and is done from both the beam parameters of the particles and the\noptics parameters of the line. For each of these a specific `dataclass`\nis provided in the `~.xibs.inputs` module.\n\n"
      ]
    },
    {
      "cell_type": "code",
      "execution_count": null,
      "metadata": {
        "collapsed": false
      },
      "outputs": [],
      "source": [
        "beam_params = BeamParameters(particles)\noptics = OpticsParameters(twiss)\nIBS = NagaitsevIBS(beam_params, optics)"
      ]
    },
    {
      "cell_type": "markdown",
      "metadata": {},
      "source": [
        "As a first step, all calculations in rely on the computing of Nagaitsev integrals\n:cite:p:`PRAB:Nagaitsev:IBS_formulas_fast_numerical_evaluation`, which is done with\na dedicated function. These are returned, but also stored internally in the **IBS**\nobject and will be updated internally each time they are computed.\n\n"
      ]
    },
    {
      "cell_type": "code",
      "execution_count": null,
      "metadata": {
        "collapsed": false
      },
      "outputs": [],
      "source": [
        "integrals = IBS.integrals(geom_epsx, geom_epsy, sig_delta)\nprint(integrals)\nprint(IBS.elliptic_integrals)"
      ]
    },
    {
      "cell_type": "markdown",
      "metadata": {},
      "source": [
        "From these the **IBS** growth rates can be computed, which is again done by calling\na dedicated function. If the integrals mentioned above have not been computed yet,\nan message will be logged for the user and they will be computed first. Once again,\nthese are returned but also stored internally and updated internally each time they\nare computed.\n\n"
      ]
    },
    {
      "cell_type": "code",
      "execution_count": null,
      "metadata": {
        "collapsed": false
      },
      "outputs": [],
      "source": [
        "growth_rates = IBS.growth_rates(geom_epsx, geom_epsy, sig_delta, bunch_l)\nprint(growth_rates)\nprint(IBS.ibs_growth_rates)"
      ]
    },
    {
      "cell_type": "markdown",
      "metadata": {},
      "source": [
        "**Please note** that the `IBS.growth_rates` method by default re-computes the\nintegrals before computing the growth rates. This is convenient as usually,\none needs to update the integrals when they want to update the growth rates.\nIt can be disabled by setting the `compute_integrals` argument to `False`.\n\n"
      ]
    },
    {
      "cell_type": "markdown",
      "metadata": {},
      "source": [
        "## Computing New Emittances from Growth Rates\nFrom these one can compute the emittances at the next time step. For the emittances\nat the next turn, once should use $1 / f_{rev}$ as the time step, which\nis the default value used if it is not provided.\n\n"
      ]
    },
    {
      "cell_type": "code",
      "execution_count": null,
      "metadata": {
        "collapsed": false
      },
      "outputs": [],
      "source": [
        "new_geom_epsx, new_geom_epsy, new_sig_delta, new_bunch_length = IBS.emittance_evolution(\n    geom_epsx, geom_epsy, sig_delta, bunch_l\n)\nprint(f\"Next time step geometrical epsilon_x = {new_geom_epsx} m\")\nprint(f\"Next time step geometrical epsilon_y = {new_geom_epsy} m\")\nprint(f\"Next time step sigma_delta = {new_sig_delta}\")\nprint(f\"Next time step bunch length = {new_bunch_length} m\")"
      ]
    },
    {
      "cell_type": "markdown",
      "metadata": {},
      "source": [
        "## Analytical Evolution for Many Turns\nOne can then analytically look at the evolution through many turns by looping\nover this calculation. Let's do this for 10 000 turns, re-computing the elliptic\nintegrals and the IBS growth rates every 200 turns. The more frequent this update\nthe more physically accurate the results will be, but the longer the simulation\nas this computation is the most compute-intensive process.\n\n"
      ]
    },
    {
      "cell_type": "code",
      "execution_count": null,
      "metadata": {
        "collapsed": false
      },
      "outputs": [],
      "source": [
        "nturns = 10_000  # number of turns to loop for\nibs_step = 200  # frequency at which to re-compute the growth rates in [turns]\nturns = np.arange(nturns, dtype=int)  # array of turns\n\n\n# Set up a dataclass to store the results\n@dataclass\nclass Records:\n    \"\"\"Dataclass to store (and update) important values through tracking.\"\"\"\n\n    epsilon_x: np.ndarray  # geometric horizontal emittance in [m]\n    epsilon_y: np.ndarray  # geometric vertical emittance in [m]\n    sig_delta: np.ndarray  # momentum spread\n    bunch_length: np.ndarray  # bunch length in [m]\n\n    @classmethod\n    def init_zeroes(cls, n_turns: int):\n        return cls(\n            epsilon_x=np.zeros(n_turns, dtype=float),\n            epsilon_y=np.zeros(n_turns, dtype=float),\n            sig_delta=np.zeros(n_turns, dtype=float),\n            bunch_length=np.zeros(n_turns, dtype=float),\n        )\n\n    def update_at_turn(self, turn: int, epsx: float, epsy: float, sigd: float, bl: float):\n        \"\"\"Works for turns / seconds, just needs the correct index to store in.\"\"\"\n        self.epsilon_x[turn] = epsx\n        self.epsilon_y[turn] = epsy\n        self.sig_delta[turn] = sigd\n        self.bunch_length[turn] = bl\n\n\n# Initialize the dataclass & store the initial values\nturn_by_turn = Records.init_zeroes(nturns)\nturn_by_turn.update_at_turn(0, geom_epsx, geom_epsy, sig_delta, bunch_l)\n\n\n# ----- We loop here now ----- # \n\nfor turn in range(1, nturns):\n    # ----- Potentially re-compute the elliptic integrals and IBS growth rates ----- #\n    if (turn % ibs_step == 0) or (turn == 1):\n        print(f\"Turn {turn}: re-computing the Nagaitsev integrals and growth rates\")\n        # We compute from values at the previous turn\n        IBS.growth_rates(  # this recomputes the integrals by default\n            turn_by_turn.epsilon_x[turn - 1],\n            turn_by_turn.epsilon_y[turn - 1],\n            turn_by_turn.sig_delta[turn - 1],\n            turn_by_turn.bunch_length[turn - 1],\n        )\n\n    # ----- Compute the new emittances ----- #\n    new_emit_x, new_emit_y, new_sig_delta, new_bunch_length = IBS.emittance_evolution(\n        epsx=turn_by_turn.epsilon_x[turn - 1],\n        epsy=turn_by_turn.epsilon_y[turn - 1],\n        sigma_delta=turn_by_turn.sig_delta[turn - 1],\n        bunch_length=turn_by_turn.bunch_length[turn - 1],\n        # dt = 1.0 / IBS.optics.revolution_frequency,  # default value\n    )\n\n    # ----- Update the records with the new values ----- #\n    turn_by_turn.update_at_turn(turn, new_emit_x, new_emit_y, new_sig_delta, new_bunch_length)"
      ]
    },
    {
      "cell_type": "markdown",
      "metadata": {},
      "source": [
        "Feel free to run this simulation for more turns, or with a different frequency\nof the IBS growth rates re-computation. After this is done running, we can plot\nthe evolutions across the turns:\n\n"
      ]
    },
    {
      "cell_type": "code",
      "execution_count": null,
      "metadata": {
        "collapsed": false
      },
      "outputs": [],
      "source": [
        "fig, axs = plt.subplot_mosaic([[\"epsx\", \"epsy\"], [\"sigd\", \"bl\"]], sharex=True, figsize=(13, 7))\n\naxs[\"epsx\"].plot(turns, 1e10 * turn_by_turn.epsilon_x, lw=2)\naxs[\"epsy\"].plot(turns, 1e13 * turn_by_turn.epsilon_y, lw=2)\naxs[\"sigd\"].plot(turns, 1e3 * turn_by_turn.sig_delta, lw=2)\naxs[\"bl\"].plot(turns, 1e3 * turn_by_turn.bunch_length, lw=2)\n\n# Axes parameters\naxs[\"epsx\"].set_ylabel(r\"$\\varepsilon_x$ [$10^{-10}$m]\")\naxs[\"epsy\"].set_ylabel(r\"$\\varepsilon_y$ [$10^{-13}$m]\")\naxs[\"sigd\"].set_ylabel(r\"$\\sigma_{\\delta}$ [$10^{-3}$]\")\naxs[\"bl\"].set_ylabel(r\"Bunch length [mm]\")\n\nfor axis in (axs[\"epsy\"], axs[\"bl\"]):\n    axis.yaxis.set_label_position(\"right\")\n    axis.yaxis.tick_right()\n\nfor axis in (axs[\"sigd\"], axs[\"bl\"]):\n    axis.set_xlabel(\"Turn Number\")\n\nfig.align_ylabels((axs[\"epsx\"], axs[\"sigd\"]))\nfig.align_ylabels((axs[\"epsy\"], axs[\"bl\"]))\n\nplt.tight_layout()\nplt.show()"
      ]
    },
    {
      "cell_type": "markdown",
      "metadata": {},
      "source": [
        ".. admonition:: References\n\n   The use of the following functions, methods, classes and modules is shown\n   in this example:\n\n   - `~xibs.analytical`: `~.xibs.analytical.NagaitsevIBS`, `~.xibs.analytical.NagaitsevIBS.growth_rates`, `~.xibs.analytical.NagaitsevIBS.integrals`, `~.xibs.analytical.NagaitsevIBS.emittance_evolution`\n   - `~xibs.inputs`: `~xibs.inputs.BeamParameters`, `~xibs.inputs.OpticsParameters`\n\n"
      ]
    }
  ],
  "metadata": {
    "kernelspec": {
      "display_name": "Python 3",
      "language": "python",
      "name": "python3"
    },
    "language_info": {
      "codemirror_mode": {
        "name": "ipython",
        "version": 3
      },
      "file_extension": ".py",
      "mimetype": "text/x-python",
      "name": "python",
      "nbconvert_exporter": "python",
      "pygments_lexer": "ipython3",
      "version": "3.11.8"
    }
  },
  "nbformat": 4,
  "nbformat_minor": 0
}